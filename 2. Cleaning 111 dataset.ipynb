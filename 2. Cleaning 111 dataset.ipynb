{
 "cells": [
  {
   "cell_type": "code",
   "execution_count": 56,
   "metadata": {},
   "outputs": [
    {
     "name": "stdout",
     "output_type": "stream",
     "text": [
      "The autoreload extension is already loaded. To reload it, use:\n",
      "  %reload_ext autoreload\n"
     ]
    }
   ],
   "source": [
    "# Enabling reloading extension to use external python files\n",
    "%load_ext autoreload\n",
    "%autoreload 2"
   ]
  },
  {
   "cell_type": "code",
   "execution_count": 57,
   "metadata": {},
   "outputs": [],
   "source": [
    "import pandas as pd\n",
    "import numpy as np\n",
    "import os\n",
    "from datetime import datetime, timedelta\n",
    "import columns\n",
    "import datasets\n",
    "import seasons\n",
    "import directory_utils"
   ]
  },
  {
   "cell_type": "code",
   "execution_count": 59,
   "metadata": {},
   "outputs": [
    {
     "name": "stdout",
     "output_type": "stream",
     "text": [
      "Days range: range(0, 367)\n",
      "Hours range: range(-1, 2401)\n",
      "Years range: range(1996, 2017)\n"
     ]
    }
   ],
   "source": [
    "_MIN_DAY_VALUE = 1\n",
    "_MAX_DAY_VALUE = 366\n",
    "_DAYS_RANGE = range(_MIN_DAY_VALUE - 1, _MAX_DAY_VALUE + 1)\n",
    "print(\"Days range: \" + str(_DAYS_RANGE))\n",
    "\n",
    "_MIN_HOUR_VALUE = 0\n",
    "_MAX_HOUR_VALUE = 2400\n",
    "_HOURS_RANGE = range(_MIN_HOUR_VALUE - 1, _MAX_HOUR_VALUE + 1)\n",
    "print(\"Hours range: \" + str(_HOURS_RANGE))\n",
    "\n",
    "_MIN_YEAR_VALUE = 1997\n",
    "_MAX_YEAR_VALUE = 2016\n",
    "_YEARS_RANGE = range(_MIN_YEAR_VALUE - 1, _MAX_YEAR_VALUE + 1)\n",
    "print(\"Years range: \" + str(_YEARS_RANGE))"
   ]
  },
  {
   "cell_type": "code",
   "execution_count": 62,
   "metadata": {},
   "outputs": [],
   "source": [
    "data_frame = pd.read_csv(datasets.MERGED_CSVS__DATA_SET_111_PATH, encoding=datasets.DEFAULT_CSV_ENCODING)"
   ]
  },
  {
   "cell_type": "code",
   "execution_count": 63,
   "metadata": {},
   "outputs": [
    {
     "data": {
      "text/plain": [
       "(997961, 18)"
      ]
     },
     "execution_count": 63,
     "metadata": {},
     "output_type": "execute_result"
    }
   ],
   "source": [
    "original_shape = data_frame.shape\n",
    "original_shape"
   ]
  },
  {
   "cell_type": "code",
   "execution_count": 64,
   "metadata": {},
   "outputs": [
    {
     "data": {
      "text/html": [
       "<div>\n",
       "<style scoped>\n",
       "    .dataframe tbody tr th:only-of-type {\n",
       "        vertical-align: middle;\n",
       "    }\n",
       "\n",
       "    .dataframe tbody tr th {\n",
       "        vertical-align: top;\n",
       "    }\n",
       "\n",
       "    .dataframe thead th {\n",
       "        text-align: right;\n",
       "    }\n",
       "</style>\n",
       "<table border=\"1\" class=\"dataframe\">\n",
       "  <thead>\n",
       "    <tr style=\"text-align: right;\">\n",
       "      <th></th>\n",
       "      <th>Cod</th>\n",
       "      <th>Ano</th>\n",
       "      <th>Dia Juliano</th>\n",
       "      <th>Hora - minuto</th>\n",
       "      <th>Veloc. Instantânea do Vento a 5 metros (m/s)</th>\n",
       "      <th>Veloc. Instantânea do Vento a 2 metros (m/s)</th>\n",
       "      <th>Direção do Vento no instante da aquisição (°)</th>\n",
       "      <th>Radiação Incidente total de 10 leituras (KW/m2)</th>\n",
       "      <th>Radiação Refletida Total de 10 leituras (KW/m2)</th>\n",
       "      <th>Fluxo Positivo de calor no solo total de 10 leituras (W/m2)</th>\n",
       "      <th>Fluxo negativo de calor no solo . total de 10 leituras (W/m2)</th>\n",
       "      <th>Umidade relativa Média (%)</th>\n",
       "      <th>Temperatura do Ar Média (°C)</th>\n",
       "      <th>Temperatura do solo  1 Média (°C) à 3cm no solo</th>\n",
       "      <th>Temperatura do solo 2Média (°C) à 6cm no solo</th>\n",
       "      <th>Temperatura do solo 3Média (°C) Colocado sensor de UV em 31/07/09</th>\n",
       "      <th>Pressão (hPa)</th>\n",
       "      <th>Chuva total do período (mm)</th>\n",
       "    </tr>\n",
       "  </thead>\n",
       "  <tbody>\n",
       "    <tr>\n",
       "      <th>0</th>\n",
       "      <td>111</td>\n",
       "      <td>1998</td>\n",
       "      <td>1.0</td>\n",
       "      <td>10</td>\n",
       "      <td>2.56</td>\n",
       "      <td>1728.0</td>\n",
       "      <td>129.2</td>\n",
       "      <td>0.0</td>\n",
       "      <td>0.0</td>\n",
       "      <td>0.0</td>\n",
       "      <td>-486.6</td>\n",
       "      <td>100.0</td>\n",
       "      <td>22.14</td>\n",
       "      <td>26.06</td>\n",
       "      <td>27.25</td>\n",
       "      <td>29.02</td>\n",
       "      <td>946.0</td>\n",
       "      <td>0</td>\n",
       "    </tr>\n",
       "    <tr>\n",
       "      <th>1</th>\n",
       "      <td>111</td>\n",
       "      <td>1998</td>\n",
       "      <td>1.0</td>\n",
       "      <td>20</td>\n",
       "      <td>2403.00</td>\n",
       "      <td>1682.0</td>\n",
       "      <td>90.0</td>\n",
       "      <td>0.0</td>\n",
       "      <td>0.0</td>\n",
       "      <td>0.0</td>\n",
       "      <td>-482.9</td>\n",
       "      <td>100.0</td>\n",
       "      <td>22.13</td>\n",
       "      <td>26.05</td>\n",
       "      <td>27.25</td>\n",
       "      <td>29.02</td>\n",
       "      <td>946.0</td>\n",
       "      <td>0</td>\n",
       "    </tr>\n",
       "  </tbody>\n",
       "</table>\n",
       "</div>"
      ],
      "text/plain": [
       "   Cod   Ano  Dia Juliano  Hora - minuto  \\\n",
       "0  111  1998          1.0             10   \n",
       "1  111  1998          1.0             20   \n",
       "\n",
       "   Veloc. Instantânea do Vento a 5 metros (m/s)  \\\n",
       "0                                          2.56   \n",
       "1                                       2403.00   \n",
       "\n",
       "   Veloc. Instantânea do Vento a 2 metros (m/s)  \\\n",
       "0                                        1728.0   \n",
       "1                                        1682.0   \n",
       "\n",
       "   Direção do Vento no instante da aquisição (°)  \\\n",
       "0                                          129.2   \n",
       "1                                           90.0   \n",
       "\n",
       "   Radiação Incidente total de 10 leituras (KW/m2)  \\\n",
       "0                                              0.0   \n",
       "1                                              0.0   \n",
       "\n",
       "   Radiação Refletida Total de 10 leituras (KW/m2)  \\\n",
       "0                                              0.0   \n",
       "1                                              0.0   \n",
       "\n",
       "   Fluxo Positivo de calor no solo total de 10 leituras (W/m2)  \\\n",
       "0                                                0.0             \n",
       "1                                                0.0             \n",
       "\n",
       "   Fluxo negativo de calor no solo . total de 10 leituras (W/m2)  \\\n",
       "0                                             -486.6               \n",
       "1                                             -482.9               \n",
       "\n",
       "   Umidade relativa Média (%)  Temperatura do Ar Média (°C)  \\\n",
       "0                       100.0                         22.14   \n",
       "1                       100.0                         22.13   \n",
       "\n",
       "   Temperatura do solo  1 Média (°C) à 3cm no solo  \\\n",
       "0                                            26.06   \n",
       "1                                            26.05   \n",
       "\n",
       "   Temperatura do solo 2Média (°C) à 6cm no solo   \\\n",
       "0                                           27.25   \n",
       "1                                           27.25   \n",
       "\n",
       "  Temperatura do solo 3Média (°C) Colocado sensor de UV em 31/07/09  \\\n",
       "0                                              29.02                  \n",
       "1                                              29.02                  \n",
       "\n",
       "   Pressão (hPa) Chuva total do período (mm)  \n",
       "0          946.0                           0  \n",
       "1          946.0                           0  "
      ]
     },
     "execution_count": 64,
     "metadata": {},
     "output_type": "execute_result"
    }
   ],
   "source": [
    "data_frame.head(2)"
   ]
  },
  {
   "cell_type": "code",
   "execution_count": 65,
   "metadata": {},
   "outputs": [
    {
     "data": {
      "text/html": [
       "<div>\n",
       "<style scoped>\n",
       "    .dataframe tbody tr th:only-of-type {\n",
       "        vertical-align: middle;\n",
       "    }\n",
       "\n",
       "    .dataframe tbody tr th {\n",
       "        vertical-align: top;\n",
       "    }\n",
       "\n",
       "    .dataframe thead th {\n",
       "        text-align: right;\n",
       "    }\n",
       "</style>\n",
       "<table border=\"1\" class=\"dataframe\">\n",
       "  <thead>\n",
       "    <tr style=\"text-align: right;\">\n",
       "      <th></th>\n",
       "      <th>Cod</th>\n",
       "      <th>Ano</th>\n",
       "      <th>Dia Juliano</th>\n",
       "      <th>Hora - minuto</th>\n",
       "      <th>Veloc. Instantânea do Vento a 5 metros (m/s)</th>\n",
       "      <th>Veloc. Instantânea do Vento a 2 metros (m/s)</th>\n",
       "      <th>Direção do Vento no instante da aquisição (°)</th>\n",
       "      <th>Radiação Incidente total de 10 leituras (KW/m2)</th>\n",
       "      <th>Radiação Refletida Total de 10 leituras (KW/m2)</th>\n",
       "      <th>Fluxo Positivo de calor no solo total de 10 leituras (W/m2)</th>\n",
       "      <th>Fluxo negativo de calor no solo . total de 10 leituras (W/m2)</th>\n",
       "      <th>Umidade relativa Média (%)</th>\n",
       "      <th>Temperatura do Ar Média (°C)</th>\n",
       "      <th>Temperatura do solo  1 Média (°C) à 3cm no solo</th>\n",
       "      <th>Temperatura do solo 2Média (°C) à 6cm no solo</th>\n",
       "      <th>Pressão (hPa)</th>\n",
       "    </tr>\n",
       "  </thead>\n",
       "  <tbody>\n",
       "    <tr>\n",
       "      <th>count</th>\n",
       "      <td>997961.000000</td>\n",
       "      <td>997961.000000</td>\n",
       "      <td>997961.000000</td>\n",
       "      <td>997961.000000</td>\n",
       "      <td>997961.000000</td>\n",
       "      <td>997961.000000</td>\n",
       "      <td>997961.000000</td>\n",
       "      <td>997961.000000</td>\n",
       "      <td>997961.000000</td>\n",
       "      <td>997961.000000</td>\n",
       "      <td>996136.000000</td>\n",
       "      <td>996135.000000</td>\n",
       "      <td>996135.000000</td>\n",
       "      <td>995770.000000</td>\n",
       "      <td>995770.000000</td>\n",
       "      <td>995770.000000</td>\n",
       "    </tr>\n",
       "    <tr>\n",
       "      <th>mean</th>\n",
       "      <td>111.502900</td>\n",
       "      <td>2007.051017</td>\n",
       "      <td>183.586042</td>\n",
       "      <td>1192.166297</td>\n",
       "      <td>1475.224883</td>\n",
       "      <td>917.671706</td>\n",
       "      <td>239.113364</td>\n",
       "      <td>741.601105</td>\n",
       "      <td>274.279981</td>\n",
       "      <td>370.378574</td>\n",
       "      <td>-1738.391017</td>\n",
       "      <td>73.584838</td>\n",
       "      <td>26.199319</td>\n",
       "      <td>1400.862837</td>\n",
       "      <td>1363.319500</td>\n",
       "      <td>946.107381</td>\n",
       "    </tr>\n",
       "    <tr>\n",
       "      <th>std</th>\n",
       "      <td>10.151583</td>\n",
       "      <td>5.468526</td>\n",
       "      <td>105.384332</td>\n",
       "      <td>692.755570</td>\n",
       "      <td>1357.186893</td>\n",
       "      <td>1144.058003</td>\n",
       "      <td>554.738891</td>\n",
       "      <td>1577.788541</td>\n",
       "      <td>904.804691</td>\n",
       "      <td>1171.193961</td>\n",
       "      <td>2848.168698</td>\n",
       "      <td>27.801138</td>\n",
       "      <td>242.126065</td>\n",
       "      <td>2778.728437</td>\n",
       "      <td>2748.226063</td>\n",
       "      <td>82.974140</td>\n",
       "    </tr>\n",
       "    <tr>\n",
       "      <th>min</th>\n",
       "      <td>111.000000</td>\n",
       "      <td>1998.000000</td>\n",
       "      <td>-53.360000</td>\n",
       "      <td>10.000000</td>\n",
       "      <td>-6999.000000</td>\n",
       "      <td>0.000000</td>\n",
       "      <td>0.000000</td>\n",
       "      <td>-6999.000000</td>\n",
       "      <td>0.000000</td>\n",
       "      <td>0.000000</td>\n",
       "      <td>-6999.000000</td>\n",
       "      <td>-6999.000000</td>\n",
       "      <td>-6999.000000</td>\n",
       "      <td>-6999.000000</td>\n",
       "      <td>-6999.000000</td>\n",
       "      <td>-6999.000000</td>\n",
       "    </tr>\n",
       "    <tr>\n",
       "      <th>25%</th>\n",
       "      <td>111.000000</td>\n",
       "      <td>2002.000000</td>\n",
       "      <td>93.000000</td>\n",
       "      <td>610.000000</td>\n",
       "      <td>1.010000</td>\n",
       "      <td>0.539000</td>\n",
       "      <td>97.700000</td>\n",
       "      <td>0.000000</td>\n",
       "      <td>0.000000</td>\n",
       "      <td>0.000000</td>\n",
       "      <td>-639.400000</td>\n",
       "      <td>60.150000</td>\n",
       "      <td>18.180000</td>\n",
       "      <td>20.530000</td>\n",
       "      <td>21.210000</td>\n",
       "      <td>942.000000</td>\n",
       "    </tr>\n",
       "    <tr>\n",
       "      <th>50%</th>\n",
       "      <td>111.000000</td>\n",
       "      <td>2007.000000</td>\n",
       "      <td>184.000000</td>\n",
       "      <td>1210.000000</td>\n",
       "      <td>1481.000000</td>\n",
       "      <td>1.010000</td>\n",
       "      <td>156.800000</td>\n",
       "      <td>0.000000</td>\n",
       "      <td>0.000000</td>\n",
       "      <td>0.000000</td>\n",
       "      <td>-246.200000</td>\n",
       "      <td>77.100000</td>\n",
       "      <td>21.180000</td>\n",
       "      <td>24.520000</td>\n",
       "      <td>24.970000</td>\n",
       "      <td>947.000000</td>\n",
       "    </tr>\n",
       "    <tr>\n",
       "      <th>75%</th>\n",
       "      <td>111.000000</td>\n",
       "      <td>2012.000000</td>\n",
       "      <td>275.000000</td>\n",
       "      <td>1810.000000</td>\n",
       "      <td>2265.000000</td>\n",
       "      <td>1716.000000</td>\n",
       "      <td>256.500000</td>\n",
       "      <td>426.200000</td>\n",
       "      <td>1.180000</td>\n",
       "      <td>166.600000</td>\n",
       "      <td>0.000000</td>\n",
       "      <td>88.600000</td>\n",
       "      <td>25.140000</td>\n",
       "      <td>32.240000</td>\n",
       "      <td>30.000000</td>\n",
       "      <td>952.000000</td>\n",
       "    </tr>\n",
       "    <tr>\n",
       "      <th>max</th>\n",
       "      <td>333.000000</td>\n",
       "      <td>2139.000000</td>\n",
       "      <td>654.000000</td>\n",
       "      <td>6640.000000</td>\n",
       "      <td>6996.000000</td>\n",
       "      <td>6999.000000</td>\n",
       "      <td>6999.000000</td>\n",
       "      <td>6999.000000</td>\n",
       "      <td>6999.000000</td>\n",
       "      <td>6999.000000</td>\n",
       "      <td>6538.000000</td>\n",
       "      <td>6836.000000</td>\n",
       "      <td>182266.000000</td>\n",
       "      <td>6999.000000</td>\n",
       "      <td>6999.000000</td>\n",
       "      <td>2802.000000</td>\n",
       "    </tr>\n",
       "  </tbody>\n",
       "</table>\n",
       "</div>"
      ],
      "text/plain": [
       "                 Cod            Ano    Dia Juliano  Hora - minuto  \\\n",
       "count  997961.000000  997961.000000  997961.000000  997961.000000   \n",
       "mean      111.502900    2007.051017     183.586042    1192.166297   \n",
       "std        10.151583       5.468526     105.384332     692.755570   \n",
       "min       111.000000    1998.000000     -53.360000      10.000000   \n",
       "25%       111.000000    2002.000000      93.000000     610.000000   \n",
       "50%       111.000000    2007.000000     184.000000    1210.000000   \n",
       "75%       111.000000    2012.000000     275.000000    1810.000000   \n",
       "max       333.000000    2139.000000     654.000000    6640.000000   \n",
       "\n",
       "       Veloc. Instantânea do Vento a 5 metros (m/s)  \\\n",
       "count                                 997961.000000   \n",
       "mean                                    1475.224883   \n",
       "std                                     1357.186893   \n",
       "min                                    -6999.000000   \n",
       "25%                                        1.010000   \n",
       "50%                                     1481.000000   \n",
       "75%                                     2265.000000   \n",
       "max                                     6996.000000   \n",
       "\n",
       "       Veloc. Instantânea do Vento a 2 metros (m/s)  \\\n",
       "count                                 997961.000000   \n",
       "mean                                     917.671706   \n",
       "std                                     1144.058003   \n",
       "min                                        0.000000   \n",
       "25%                                        0.539000   \n",
       "50%                                        1.010000   \n",
       "75%                                     1716.000000   \n",
       "max                                     6999.000000   \n",
       "\n",
       "       Direção do Vento no instante da aquisição (°)  \\\n",
       "count                                  997961.000000   \n",
       "mean                                      239.113364   \n",
       "std                                       554.738891   \n",
       "min                                         0.000000   \n",
       "25%                                        97.700000   \n",
       "50%                                       156.800000   \n",
       "75%                                       256.500000   \n",
       "max                                      6999.000000   \n",
       "\n",
       "       Radiação Incidente total de 10 leituras (KW/m2)  \\\n",
       "count                                    997961.000000   \n",
       "mean                                        741.601105   \n",
       "std                                        1577.788541   \n",
       "min                                       -6999.000000   \n",
       "25%                                           0.000000   \n",
       "50%                                           0.000000   \n",
       "75%                                         426.200000   \n",
       "max                                        6999.000000   \n",
       "\n",
       "       Radiação Refletida Total de 10 leituras (KW/m2)  \\\n",
       "count                                    997961.000000   \n",
       "mean                                        274.279981   \n",
       "std                                         904.804691   \n",
       "min                                           0.000000   \n",
       "25%                                           0.000000   \n",
       "50%                                           0.000000   \n",
       "75%                                           1.180000   \n",
       "max                                        6999.000000   \n",
       "\n",
       "       Fluxo Positivo de calor no solo total de 10 leituras (W/m2)  \\\n",
       "count                                      997961.000000             \n",
       "mean                                          370.378574             \n",
       "std                                          1171.193961             \n",
       "min                                             0.000000             \n",
       "25%                                             0.000000             \n",
       "50%                                             0.000000             \n",
       "75%                                           166.600000             \n",
       "max                                          6999.000000             \n",
       "\n",
       "       Fluxo negativo de calor no solo . total de 10 leituras (W/m2)  \\\n",
       "count                                      996136.000000               \n",
       "mean                                        -1738.391017               \n",
       "std                                          2848.168698               \n",
       "min                                         -6999.000000               \n",
       "25%                                          -639.400000               \n",
       "50%                                          -246.200000               \n",
       "75%                                             0.000000               \n",
       "max                                          6538.000000               \n",
       "\n",
       "       Umidade relativa Média (%)  Temperatura do Ar Média (°C)  \\\n",
       "count               996135.000000                 996135.000000   \n",
       "mean                    73.584838                     26.199319   \n",
       "std                     27.801138                    242.126065   \n",
       "min                  -6999.000000                  -6999.000000   \n",
       "25%                     60.150000                     18.180000   \n",
       "50%                     77.100000                     21.180000   \n",
       "75%                     88.600000                     25.140000   \n",
       "max                   6836.000000                 182266.000000   \n",
       "\n",
       "       Temperatura do solo  1 Média (°C) à 3cm no solo  \\\n",
       "count                                    995770.000000   \n",
       "mean                                       1400.862837   \n",
       "std                                        2778.728437   \n",
       "min                                       -6999.000000   \n",
       "25%                                          20.530000   \n",
       "50%                                          24.520000   \n",
       "75%                                          32.240000   \n",
       "max                                        6999.000000   \n",
       "\n",
       "       Temperatura do solo 2Média (°C) à 6cm no solo   Pressão (hPa)  \n",
       "count                                   995770.000000  995770.000000  \n",
       "mean                                      1363.319500     946.107381  \n",
       "std                                       2748.226063      82.974140  \n",
       "min                                      -6999.000000   -6999.000000  \n",
       "25%                                         21.210000     942.000000  \n",
       "50%                                         24.970000     947.000000  \n",
       "75%                                         30.000000     952.000000  \n",
       "max                                       6999.000000    2802.000000  "
      ]
     },
     "execution_count": 65,
     "metadata": {},
     "output_type": "execute_result"
    }
   ],
   "source": [
    "data_frame.describe()"
   ]
  },
  {
   "cell_type": "markdown",
   "metadata": {},
   "source": [
    "### Removing invalid days, hours and years"
   ]
  },
  {
   "cell_type": "code",
   "execution_count": 66,
   "metadata": {},
   "outputs": [],
   "source": [
    "def is_in_range(range, value):\n",
    "    return value in range\n",
    "def is_not_in_range(range, value):\n",
    "    return value not in range"
   ]
  },
  {
   "cell_type": "code",
   "execution_count": 69,
   "metadata": {},
   "outputs": [
    {
     "data": {
      "text/plain": [
       "array([-53.36, 388.  ,  29.77, 654.  ])"
      ]
     },
     "execution_count": 69,
     "metadata": {},
     "output_type": "execute_result"
    }
   ],
   "source": [
    "_days_not_in_range_filter = data_frame[columns.JULIAN_DAY].map(lambda value: is_not_in_range(_DAYS_RANGE, value))\n",
    "data_frame[_days_not_in_range_filter][columns.JULIAN_DAY].unique()"
   ]
  },
  {
   "cell_type": "code",
   "execution_count": 70,
   "metadata": {},
   "outputs": [],
   "source": [
    "_days_in_range_filter = data_frame[columns.JULIAN_DAY].map(lambda value: is_in_range(_DAYS_RANGE, value))\n",
    "data_frame = data_frame[_days_in_range_filter]"
   ]
  },
  {
   "cell_type": "code",
   "execution_count": 71,
   "metadata": {},
   "outputs": [
    {
     "data": {
      "text/plain": [
       "array([2017])"
      ]
     },
     "execution_count": 71,
     "metadata": {},
     "output_type": "execute_result"
    }
   ],
   "source": [
    "_years_not_in_range_filter = data_frame[columns.YEAR].map(lambda value: is_not_in_range(_YEARS_RANGE, value))\n",
    "data_frame[_years_not_in_range_filter][columns.YEAR].unique()"
   ]
  },
  {
   "cell_type": "code",
   "execution_count": 73,
   "metadata": {},
   "outputs": [],
   "source": [
    "_years_in_range_filter = data_frame[columns.YEAR].map(lambda value: is_in_range(_YEARS_RANGE, value))\n",
    "data_frame = data_frame[_years_in_range_filter]"
   ]
  },
  {
   "cell_type": "code",
   "execution_count": 74,
   "metadata": {},
   "outputs": [
    {
     "data": {
      "text/plain": [
       "array([], dtype=int64)"
      ]
     },
     "execution_count": 74,
     "metadata": {},
     "output_type": "execute_result"
    }
   ],
   "source": [
    "_hours_not_in_range_filter = data_frame[columns.HOUR_MINUTE].map(lambda value: is_not_in_range(_HOURS_RANGE, value))\n",
    "\n",
    "data_frame[_hours_not_in_range_filter][columns.HOUR_MINUTE].unique()"
   ]
  },
  {
   "cell_type": "code",
   "execution_count": 75,
   "metadata": {},
   "outputs": [],
   "source": [
    "_hours_in_range_filter = data_frame[columns.HOUR_MINUTE].map(lambda value: is_in_range(_HOURS_RANGE, value))\n",
    "data_frame = data_frame[_hours_in_range_filter]"
   ]
  },
  {
   "cell_type": "code",
   "execution_count": 76,
   "metadata": {},
   "outputs": [
    {
     "data": {
      "text/plain": [
       "(997785, 18)"
      ]
     },
     "execution_count": 76,
     "metadata": {},
     "output_type": "execute_result"
    }
   ],
   "source": [
    "data_frame.shape"
   ]
  },
  {
   "cell_type": "markdown",
   "metadata": {},
   "source": [
    "### Removing null values"
   ]
  },
  {
   "cell_type": "code",
   "execution_count": 77,
   "metadata": {},
   "outputs": [
    {
     "data": {
      "text/plain": [
       "Cod                                                                     0\n",
       "Ano                                                                     0\n",
       "Dia Juliano                                                             0\n",
       "Hora - minuto                                                           0\n",
       "Veloc. Instantânea do Vento a 5 metros (m/s)                            0\n",
       "Veloc. Instantânea do Vento a 2 metros (m/s)                            0\n",
       "Direção do Vento no instante da aquisição (°)                           0\n",
       "Radiação Incidente total de 10 leituras (KW/m2)                         0\n",
       "Radiação Refletida Total de 10 leituras (KW/m2)                         0\n",
       "Fluxo Positivo de calor no solo total de 10 leituras (W/m2)             0\n",
       "Fluxo negativo de calor no solo . total de 10 leituras (W/m2)        1825\n",
       "Umidade relativa Média (%)                                           1826\n",
       "Temperatura do Ar Média (°C)                                         1826\n",
       "Temperatura do solo  1 Média (°C) à 3cm no solo                      2191\n",
       "Temperatura do solo 2Média (°C) à 6cm no solo                        2191\n",
       "Temperatura do solo 3Média (°C) Colocado sensor de UV em 31/07/09    2191\n",
       "Pressão (hPa)                                                        2191\n",
       "Chuva total do período (mm)                                          2191\n",
       "dtype: int64"
      ]
     },
     "execution_count": 77,
     "metadata": {},
     "output_type": "execute_result"
    }
   ],
   "source": [
    "data_frame.isnull().sum()"
   ]
  },
  {
   "cell_type": "code",
   "execution_count": 78,
   "metadata": {},
   "outputs": [
    {
     "data": {
      "text/plain": [
       "(997785, 18)"
      ]
     },
     "execution_count": 78,
     "metadata": {},
     "output_type": "execute_result"
    }
   ],
   "source": [
    "data_frame.shape"
   ]
  },
  {
   "cell_type": "code",
   "execution_count": 79,
   "metadata": {},
   "outputs": [
    {
     "data": {
      "text/plain": [
       "(995594, 18)"
      ]
     },
     "execution_count": 79,
     "metadata": {},
     "output_type": "execute_result"
    }
   ],
   "source": [
    "data_frame.dropna().shape"
   ]
  },
  {
   "cell_type": "code",
   "execution_count": 80,
   "metadata": {},
   "outputs": [],
   "source": [
    "data_frame = data_frame.dropna()"
   ]
  },
  {
   "cell_type": "code",
   "execution_count": 81,
   "metadata": {},
   "outputs": [
    {
     "data": {
      "text/plain": [
       "Cod                                                                  0\n",
       "Ano                                                                  0\n",
       "Dia Juliano                                                          0\n",
       "Hora - minuto                                                        0\n",
       "Veloc. Instantânea do Vento a 5 metros (m/s)                         0\n",
       "Veloc. Instantânea do Vento a 2 metros (m/s)                         0\n",
       "Direção do Vento no instante da aquisição (°)                        0\n",
       "Radiação Incidente total de 10 leituras (KW/m2)                      0\n",
       "Radiação Refletida Total de 10 leituras (KW/m2)                      0\n",
       "Fluxo Positivo de calor no solo total de 10 leituras (W/m2)          0\n",
       "Fluxo negativo de calor no solo . total de 10 leituras (W/m2)        0\n",
       "Umidade relativa Média (%)                                           0\n",
       "Temperatura do Ar Média (°C)                                         0\n",
       "Temperatura do solo  1 Média (°C) à 3cm no solo                      0\n",
       "Temperatura do solo 2Média (°C) à 6cm no solo                        0\n",
       "Temperatura do solo 3Média (°C) Colocado sensor de UV em 31/07/09    0\n",
       "Pressão (hPa)                                                        0\n",
       "Chuva total do período (mm)                                          0\n",
       "dtype: int64"
      ]
     },
     "execution_count": 81,
     "metadata": {},
     "output_type": "execute_result"
    }
   ],
   "source": [
    "data_frame.isnull().sum()"
   ]
  },
  {
   "cell_type": "code",
   "execution_count": 82,
   "metadata": {},
   "outputs": [
    {
     "data": {
      "text/plain": [
       "(995594, 18)"
      ]
     },
     "execution_count": 82,
     "metadata": {},
     "output_type": "execute_result"
    }
   ],
   "source": [
    "data_frame.shape"
   ]
  },
  {
   "cell_type": "markdown",
   "metadata": {},
   "source": [
    "### Removing days with value \"0\""
   ]
  },
  {
   "cell_type": "code",
   "execution_count": 84,
   "metadata": {},
   "outputs": [
    {
     "data": {
      "text/html": [
       "<div>\n",
       "<style scoped>\n",
       "    .dataframe tbody tr th:only-of-type {\n",
       "        vertical-align: middle;\n",
       "    }\n",
       "\n",
       "    .dataframe tbody tr th {\n",
       "        vertical-align: top;\n",
       "    }\n",
       "\n",
       "    .dataframe thead th {\n",
       "        text-align: right;\n",
       "    }\n",
       "</style>\n",
       "<table border=\"1\" class=\"dataframe\">\n",
       "  <thead>\n",
       "    <tr style=\"text-align: right;\">\n",
       "      <th></th>\n",
       "      <th>Cod</th>\n",
       "      <th>Ano</th>\n",
       "      <th>Dia Juliano</th>\n",
       "      <th>Hora - minuto</th>\n",
       "      <th>Veloc. Instantânea do Vento a 5 metros (m/s)</th>\n",
       "      <th>Veloc. Instantânea do Vento a 2 metros (m/s)</th>\n",
       "      <th>Direção do Vento no instante da aquisição (°)</th>\n",
       "      <th>Radiação Incidente total de 10 leituras (KW/m2)</th>\n",
       "      <th>Radiação Refletida Total de 10 leituras (KW/m2)</th>\n",
       "      <th>Fluxo Positivo de calor no solo total de 10 leituras (W/m2)</th>\n",
       "      <th>Fluxo negativo de calor no solo . total de 10 leituras (W/m2)</th>\n",
       "      <th>Umidade relativa Média (%)</th>\n",
       "      <th>Temperatura do Ar Média (°C)</th>\n",
       "      <th>Temperatura do solo  1 Média (°C) à 3cm no solo</th>\n",
       "      <th>Temperatura do solo 2Média (°C) à 6cm no solo</th>\n",
       "      <th>Temperatura do solo 3Média (°C) Colocado sensor de UV em 31/07/09</th>\n",
       "      <th>Pressão (hPa)</th>\n",
       "      <th>Chuva total do período (mm)</th>\n",
       "    </tr>\n",
       "  </thead>\n",
       "  <tbody>\n",
       "    <tr>\n",
       "      <th>661589</th>\n",
       "      <td>111</td>\n",
       "      <td>2000</td>\n",
       "      <td>0.0</td>\n",
       "      <td>10</td>\n",
       "      <td>2187.0</td>\n",
       "      <td>2187.0</td>\n",
       "      <td>354.5</td>\n",
       "      <td>0.0</td>\n",
       "      <td>0.0</td>\n",
       "      <td>42.23</td>\n",
       "      <td>0.0</td>\n",
       "      <td>35.45</td>\n",
       "      <td>27.75</td>\n",
       "      <td>20.49</td>\n",
       "      <td>18.88</td>\n",
       "      <td>4.4</td>\n",
       "      <td>949.0</td>\n",
       "      <td>0</td>\n",
       "    </tr>\n",
       "    <tr>\n",
       "      <th>661590</th>\n",
       "      <td>111</td>\n",
       "      <td>2000</td>\n",
       "      <td>0.0</td>\n",
       "      <td>20</td>\n",
       "      <td>1952.0</td>\n",
       "      <td>1952.0</td>\n",
       "      <td>319.8</td>\n",
       "      <td>0.0</td>\n",
       "      <td>0.0</td>\n",
       "      <td>441.90</td>\n",
       "      <td>0.0</td>\n",
       "      <td>36.56</td>\n",
       "      <td>27.51</td>\n",
       "      <td>20.80</td>\n",
       "      <td>18.97</td>\n",
       "      <td>4497</td>\n",
       "      <td>949.0</td>\n",
       "      <td>0</td>\n",
       "    </tr>\n",
       "    <tr>\n",
       "      <th>661591</th>\n",
       "      <td>111</td>\n",
       "      <td>2000</td>\n",
       "      <td>0.0</td>\n",
       "      <td>30</td>\n",
       "      <td>2187.0</td>\n",
       "      <td>2187.0</td>\n",
       "      <td>95.6</td>\n",
       "      <td>0.0</td>\n",
       "      <td>0.0</td>\n",
       "      <td>471.80</td>\n",
       "      <td>0.0</td>\n",
       "      <td>36.23</td>\n",
       "      <td>27.65</td>\n",
       "      <td>21.05</td>\n",
       "      <td>19.09</td>\n",
       "      <td>4506</td>\n",
       "      <td>949.0</td>\n",
       "      <td>0</td>\n",
       "    </tr>\n",
       "    <tr>\n",
       "      <th>661592</th>\n",
       "      <td>111</td>\n",
       "      <td>2000</td>\n",
       "      <td>0.0</td>\n",
       "      <td>40</td>\n",
       "      <td>3128.0</td>\n",
       "      <td>2893.0</td>\n",
       "      <td>79.1</td>\n",
       "      <td>0.0</td>\n",
       "      <td>0.0</td>\n",
       "      <td>499.40</td>\n",
       "      <td>0.0</td>\n",
       "      <td>34.85</td>\n",
       "      <td>28.19</td>\n",
       "      <td>21.35</td>\n",
       "      <td>19.16</td>\n",
       "      <td>4717</td>\n",
       "      <td>948.0</td>\n",
       "      <td>0</td>\n",
       "    </tr>\n",
       "  </tbody>\n",
       "</table>\n",
       "</div>"
      ],
      "text/plain": [
       "        Cod   Ano  Dia Juliano  Hora - minuto  \\\n",
       "661589  111  2000          0.0             10   \n",
       "661590  111  2000          0.0             20   \n",
       "661591  111  2000          0.0             30   \n",
       "661592  111  2000          0.0             40   \n",
       "\n",
       "        Veloc. Instantânea do Vento a 5 metros (m/s)  \\\n",
       "661589                                        2187.0   \n",
       "661590                                        1952.0   \n",
       "661591                                        2187.0   \n",
       "661592                                        3128.0   \n",
       "\n",
       "        Veloc. Instantânea do Vento a 2 metros (m/s)  \\\n",
       "661589                                        2187.0   \n",
       "661590                                        1952.0   \n",
       "661591                                        2187.0   \n",
       "661592                                        2893.0   \n",
       "\n",
       "        Direção do Vento no instante da aquisição (°)  \\\n",
       "661589                                          354.5   \n",
       "661590                                          319.8   \n",
       "661591                                           95.6   \n",
       "661592                                           79.1   \n",
       "\n",
       "        Radiação Incidente total de 10 leituras (KW/m2)  \\\n",
       "661589                                              0.0   \n",
       "661590                                              0.0   \n",
       "661591                                              0.0   \n",
       "661592                                              0.0   \n",
       "\n",
       "        Radiação Refletida Total de 10 leituras (KW/m2)  \\\n",
       "661589                                              0.0   \n",
       "661590                                              0.0   \n",
       "661591                                              0.0   \n",
       "661592                                              0.0   \n",
       "\n",
       "        Fluxo Positivo de calor no solo total de 10 leituras (W/m2)  \\\n",
       "661589                                              42.23             \n",
       "661590                                             441.90             \n",
       "661591                                             471.80             \n",
       "661592                                             499.40             \n",
       "\n",
       "        Fluxo negativo de calor no solo . total de 10 leituras (W/m2)  \\\n",
       "661589                                                0.0               \n",
       "661590                                                0.0               \n",
       "661591                                                0.0               \n",
       "661592                                                0.0               \n",
       "\n",
       "        Umidade relativa Média (%)  Temperatura do Ar Média (°C)  \\\n",
       "661589                       35.45                         27.75   \n",
       "661590                       36.56                         27.51   \n",
       "661591                       36.23                         27.65   \n",
       "661592                       34.85                         28.19   \n",
       "\n",
       "        Temperatura do solo  1 Média (°C) à 3cm no solo  \\\n",
       "661589                                            20.49   \n",
       "661590                                            20.80   \n",
       "661591                                            21.05   \n",
       "661592                                            21.35   \n",
       "\n",
       "        Temperatura do solo 2Média (°C) à 6cm no solo   \\\n",
       "661589                                           18.88   \n",
       "661590                                           18.97   \n",
       "661591                                           19.09   \n",
       "661592                                           19.16   \n",
       "\n",
       "       Temperatura do solo 3Média (°C) Colocado sensor de UV em 31/07/09  \\\n",
       "661589                                                4.4                  \n",
       "661590                                               4497                  \n",
       "661591                                               4506                  \n",
       "661592                                               4717                  \n",
       "\n",
       "        Pressão (hPa) Chuva total do período (mm)  \n",
       "661589          949.0                           0  \n",
       "661590          949.0                           0  \n",
       "661591          949.0                           0  \n",
       "661592          948.0                           0  "
      ]
     },
     "execution_count": 84,
     "metadata": {},
     "output_type": "execute_result"
    }
   ],
   "source": [
    "data_frame[data_frame[columns.JULIAN_DAY]==0]"
   ]
  },
  {
   "cell_type": "code",
   "execution_count": 85,
   "metadata": {},
   "outputs": [],
   "source": [
    "data_frame = data_frame[data_frame[columns.JULIAN_DAY]!=0]"
   ]
  },
  {
   "cell_type": "code",
   "execution_count": 86,
   "metadata": {},
   "outputs": [
    {
     "data": {
      "text/plain": [
       "(995590, 18)"
      ]
     },
     "execution_count": 86,
     "metadata": {},
     "output_type": "execute_result"
    }
   ],
   "source": [
    "data_frame.shape"
   ]
  },
  {
   "cell_type": "markdown",
   "metadata": {},
   "source": [
    "### Removing data from 222"
   ]
  },
  {
   "cell_type": "code",
   "execution_count": 88,
   "metadata": {},
   "outputs": [
    {
     "data": {
      "text/plain": [
       "array([111, 222])"
      ]
     },
     "execution_count": 88,
     "metadata": {},
     "output_type": "execute_result"
    }
   ],
   "source": [
    "data_frame[columns.CODE].unique()"
   ]
  },
  {
   "cell_type": "code",
   "execution_count": 89,
   "metadata": {},
   "outputs": [
    {
     "data": {
      "text/html": [
       "<div>\n",
       "<style scoped>\n",
       "    .dataframe tbody tr th:only-of-type {\n",
       "        vertical-align: middle;\n",
       "    }\n",
       "\n",
       "    .dataframe tbody tr th {\n",
       "        vertical-align: top;\n",
       "    }\n",
       "\n",
       "    .dataframe thead th {\n",
       "        text-align: right;\n",
       "    }\n",
       "</style>\n",
       "<table border=\"1\" class=\"dataframe\">\n",
       "  <thead>\n",
       "    <tr style=\"text-align: right;\">\n",
       "      <th></th>\n",
       "      <th>Cod</th>\n",
       "      <th>Ano</th>\n",
       "      <th>Dia Juliano</th>\n",
       "      <th>Hora - minuto</th>\n",
       "      <th>Veloc. Instantânea do Vento a 5 metros (m/s)</th>\n",
       "      <th>Veloc. Instantânea do Vento a 2 metros (m/s)</th>\n",
       "      <th>Direção do Vento no instante da aquisição (°)</th>\n",
       "      <th>Radiação Incidente total de 10 leituras (KW/m2)</th>\n",
       "      <th>Radiação Refletida Total de 10 leituras (KW/m2)</th>\n",
       "      <th>Fluxo Positivo de calor no solo total de 10 leituras (W/m2)</th>\n",
       "      <th>Fluxo negativo de calor no solo . total de 10 leituras (W/m2)</th>\n",
       "      <th>Umidade relativa Média (%)</th>\n",
       "      <th>Temperatura do Ar Média (°C)</th>\n",
       "      <th>Temperatura do solo  1 Média (°C) à 3cm no solo</th>\n",
       "      <th>Temperatura do solo 2Média (°C) à 6cm no solo</th>\n",
       "      <th>Temperatura do solo 3Média (°C) Colocado sensor de UV em 31/07/09</th>\n",
       "      <th>Pressão (hPa)</th>\n",
       "      <th>Chuva total do período (mm)</th>\n",
       "    </tr>\n",
       "  </thead>\n",
       "  <tbody>\n",
       "    <tr>\n",
       "      <th>363935</th>\n",
       "      <td>222</td>\n",
       "      <td>2005</td>\n",
       "      <td>1.0</td>\n",
       "      <td>2400</td>\n",
       "      <td>4894.00</td>\n",
       "      <td>4344.00</td>\n",
       "      <td>113.9</td>\n",
       "      <td>1805.0</td>\n",
       "      <td>158.4</td>\n",
       "      <td>78.10</td>\n",
       "      <td>25.33</td>\n",
       "      <td>-18.58</td>\n",
       "      <td>32.85</td>\n",
       "      <td>1321.0</td>\n",
       "      <td>20.07</td>\n",
       "      <td>529</td>\n",
       "      <td>33.97</td>\n",
       "      <td>1256</td>\n",
       "    </tr>\n",
       "    <tr>\n",
       "      <th>364086</th>\n",
       "      <td>222</td>\n",
       "      <td>2005</td>\n",
       "      <td>2.0</td>\n",
       "      <td>2400</td>\n",
       "      <td>6.07</td>\n",
       "      <td>5.60</td>\n",
       "      <td>140.8</td>\n",
       "      <td>1517.0</td>\n",
       "      <td>131.5</td>\n",
       "      <td>70.70</td>\n",
       "      <td>20.15</td>\n",
       "      <td>-22.71</td>\n",
       "      <td>32.06</td>\n",
       "      <td>1259.0</td>\n",
       "      <td>19.55</td>\n",
       "      <td>524</td>\n",
       "      <td>34.08</td>\n",
       "      <td>1314</td>\n",
       "    </tr>\n",
       "    <tr>\n",
       "      <th>364237</th>\n",
       "      <td>222</td>\n",
       "      <td>2005</td>\n",
       "      <td>3.0</td>\n",
       "      <td>2400</td>\n",
       "      <td>5168.00</td>\n",
       "      <td>4266.00</td>\n",
       "      <td>270.6</td>\n",
       "      <td>1637.0</td>\n",
       "      <td>136.5</td>\n",
       "      <td>74.30</td>\n",
       "      <td>20.47</td>\n",
       "      <td>-22.35</td>\n",
       "      <td>31.32</td>\n",
       "      <td>1314.0</td>\n",
       "      <td>18.11</td>\n",
       "      <td>534</td>\n",
       "      <td>32.32</td>\n",
       "      <td>1326</td>\n",
       "    </tr>\n",
       "    <tr>\n",
       "      <th>364388</th>\n",
       "      <td>222</td>\n",
       "      <td>2005</td>\n",
       "      <td>4.0</td>\n",
       "      <td>2400</td>\n",
       "      <td>4462.00</td>\n",
       "      <td>3717.00</td>\n",
       "      <td>302.0</td>\n",
       "      <td>2216.0</td>\n",
       "      <td>75.5</td>\n",
       "      <td>51.65</td>\n",
       "      <td>5698.00</td>\n",
       "      <td>-19.32</td>\n",
       "      <td>24.66</td>\n",
       "      <td>1537.0</td>\n",
       "      <td>18.47</td>\n",
       "      <td>200</td>\n",
       "      <td>27.85</td>\n",
       "      <td>1550</td>\n",
       "    </tr>\n",
       "    <tr>\n",
       "      <th>364539</th>\n",
       "      <td>222</td>\n",
       "      <td>2005</td>\n",
       "      <td>5.0</td>\n",
       "      <td>2400</td>\n",
       "      <td>4423.00</td>\n",
       "      <td>4.07</td>\n",
       "      <td>358.2</td>\n",
       "      <td>1514.0</td>\n",
       "      <td>101.0</td>\n",
       "      <td>60.42</td>\n",
       "      <td>9.87</td>\n",
       "      <td>-13.45</td>\n",
       "      <td>26.20</td>\n",
       "      <td>1441.0</td>\n",
       "      <td>18.60</td>\n",
       "      <td>335</td>\n",
       "      <td>27.78</td>\n",
       "      <td>1650</td>\n",
       "    </tr>\n",
       "  </tbody>\n",
       "</table>\n",
       "</div>"
      ],
      "text/plain": [
       "        Cod   Ano  Dia Juliano  Hora - minuto  \\\n",
       "363935  222  2005          1.0           2400   \n",
       "364086  222  2005          2.0           2400   \n",
       "364237  222  2005          3.0           2400   \n",
       "364388  222  2005          4.0           2400   \n",
       "364539  222  2005          5.0           2400   \n",
       "\n",
       "        Veloc. Instantânea do Vento a 5 metros (m/s)  \\\n",
       "363935                                       4894.00   \n",
       "364086                                          6.07   \n",
       "364237                                       5168.00   \n",
       "364388                                       4462.00   \n",
       "364539                                       4423.00   \n",
       "\n",
       "        Veloc. Instantânea do Vento a 2 metros (m/s)  \\\n",
       "363935                                       4344.00   \n",
       "364086                                          5.60   \n",
       "364237                                       4266.00   \n",
       "364388                                       3717.00   \n",
       "364539                                          4.07   \n",
       "\n",
       "        Direção do Vento no instante da aquisição (°)  \\\n",
       "363935                                          113.9   \n",
       "364086                                          140.8   \n",
       "364237                                          270.6   \n",
       "364388                                          302.0   \n",
       "364539                                          358.2   \n",
       "\n",
       "        Radiação Incidente total de 10 leituras (KW/m2)  \\\n",
       "363935                                           1805.0   \n",
       "364086                                           1517.0   \n",
       "364237                                           1637.0   \n",
       "364388                                           2216.0   \n",
       "364539                                           1514.0   \n",
       "\n",
       "        Radiação Refletida Total de 10 leituras (KW/m2)  \\\n",
       "363935                                            158.4   \n",
       "364086                                            131.5   \n",
       "364237                                            136.5   \n",
       "364388                                             75.5   \n",
       "364539                                            101.0   \n",
       "\n",
       "        Fluxo Positivo de calor no solo total de 10 leituras (W/m2)  \\\n",
       "363935                                              78.10             \n",
       "364086                                              70.70             \n",
       "364237                                              74.30             \n",
       "364388                                              51.65             \n",
       "364539                                              60.42             \n",
       "\n",
       "        Fluxo negativo de calor no solo . total de 10 leituras (W/m2)  \\\n",
       "363935                                              25.33               \n",
       "364086                                              20.15               \n",
       "364237                                              20.47               \n",
       "364388                                            5698.00               \n",
       "364539                                               9.87               \n",
       "\n",
       "        Umidade relativa Média (%)  Temperatura do Ar Média (°C)  \\\n",
       "363935                      -18.58                         32.85   \n",
       "364086                      -22.71                         32.06   \n",
       "364237                      -22.35                         31.32   \n",
       "364388                      -19.32                         24.66   \n",
       "364539                      -13.45                         26.20   \n",
       "\n",
       "        Temperatura do solo  1 Média (°C) à 3cm no solo  \\\n",
       "363935                                           1321.0   \n",
       "364086                                           1259.0   \n",
       "364237                                           1314.0   \n",
       "364388                                           1537.0   \n",
       "364539                                           1441.0   \n",
       "\n",
       "        Temperatura do solo 2Média (°C) à 6cm no solo   \\\n",
       "363935                                           20.07   \n",
       "364086                                           19.55   \n",
       "364237                                           18.11   \n",
       "364388                                           18.47   \n",
       "364539                                           18.60   \n",
       "\n",
       "       Temperatura do solo 3Média (°C) Colocado sensor de UV em 31/07/09  \\\n",
       "363935                                                529                  \n",
       "364086                                                524                  \n",
       "364237                                                534                  \n",
       "364388                                                200                  \n",
       "364539                                                335                  \n",
       "\n",
       "        Pressão (hPa) Chuva total do período (mm)  \n",
       "363935          33.97                        1256  \n",
       "364086          34.08                        1314  \n",
       "364237          32.32                        1326  \n",
       "364388          27.85                        1550  \n",
       "364539          27.78                        1650  "
      ]
     },
     "execution_count": 89,
     "metadata": {},
     "output_type": "execute_result"
    }
   ],
   "source": [
    "data_frame[data_frame[columns.CODE]!=111].head()"
   ]
  },
  {
   "cell_type": "code",
   "execution_count": 91,
   "metadata": {},
   "outputs": [],
   "source": [
    "data_frame = data_frame[data_frame[columns.CODE]==111]"
   ]
  },
  {
   "cell_type": "code",
   "execution_count": 92,
   "metadata": {},
   "outputs": [
    {
     "data": {
      "text/plain": [
       "(995225, 18)"
      ]
     },
     "execution_count": 92,
     "metadata": {},
     "output_type": "execute_result"
    }
   ],
   "source": [
    "data_frame.shape"
   ]
  },
  {
   "cell_type": "markdown",
   "metadata": {},
   "source": [
    "### Removing invalid Air Temperature measurements"
   ]
  },
  {
   "cell_type": "code",
   "execution_count": 95,
   "metadata": {},
   "outputs": [],
   "source": [
    "_MIN_AIR_TEMPERATURE=-2\n",
    "_MAX_AIR_TEMPERATURE=45"
   ]
  },
  {
   "cell_type": "code",
   "execution_count": 96,
   "metadata": {},
   "outputs": [
    {
     "data": {
      "text/plain": [
       "count    995225.000000\n",
       "mean         25.678895\n",
       "std         240.480127\n",
       "min       -6999.000000\n",
       "25%          18.170000\n",
       "50%          21.180000\n",
       "75%          25.130000\n",
       "max      182266.000000\n",
       "Name: Temperatura do Ar Média (°C), dtype: float64"
      ]
     },
     "execution_count": 96,
     "metadata": {},
     "output_type": "execute_result"
    }
   ],
   "source": [
    "data_frame[columns.TEMPERATURE].describe()"
   ]
  },
  {
   "cell_type": "code",
   "execution_count": 97,
   "metadata": {},
   "outputs": [
    {
     "data": {
      "text/plain": [
       "count    994436.000000\n",
       "mean         21.620166\n",
       "std           5.043158\n",
       "min           3.890000\n",
       "25%          18.170000\n",
       "50%          21.180000\n",
       "75%          25.120000\n",
       "max          44.990000\n",
       "Name: Temperatura do Ar Média (°C), dtype: float64"
      ]
     },
     "execution_count": 97,
     "metadata": {},
     "output_type": "execute_result"
    }
   ],
   "source": [
    "data_frame_without_invalid_air_temp = data_frame.loc[(data_frame[columns.TEMPERATURE] > _MIN_AIR_TEMPERATURE) & (data_frame[columns.TEMPERATURE] < _MAX_AIR_TEMPERATURE), :]\n",
    "data_frame_without_invalid_air_temp[columns.TEMPERATURE].describe()"
   ]
  },
  {
   "cell_type": "code",
   "execution_count": 98,
   "metadata": {},
   "outputs": [
    {
     "data": {
      "text/plain": [
       "789"
      ]
     },
     "execution_count": 98,
     "metadata": {},
     "output_type": "execute_result"
    }
   ],
   "source": [
    "data_frame.shape[0] - data_frame_without_invalid_air_temp.shape[0]"
   ]
  },
  {
   "cell_type": "code",
   "execution_count": 99,
   "metadata": {},
   "outputs": [],
   "source": [
    "data_frame = data_frame_without_invalid_air_temp"
   ]
  },
  {
   "cell_type": "markdown",
   "metadata": {},
   "source": [
    "### Removing invalid Air moisture measurements"
   ]
  },
  {
   "cell_type": "code",
   "execution_count": 100,
   "metadata": {},
   "outputs": [],
   "source": [
    "_MIN_AIR_MOISTURE=0\n",
    "_MAX_AIR_MOISTURE=100"
   ]
  },
  {
   "cell_type": "code",
   "execution_count": 101,
   "metadata": {},
   "outputs": [
    {
     "data": {
      "text/plain": [
       "count    994436.000000\n",
       "mean         73.626116\n",
       "std          26.046411\n",
       "min        -237.800000\n",
       "25%          60.170000\n",
       "50%          77.100000\n",
       "75%          88.600000\n",
       "max        6836.000000\n",
       "Name: Umidade relativa Média (%), dtype: float64"
      ]
     },
     "execution_count": 101,
     "metadata": {},
     "output_type": "execute_result"
    }
   ],
   "source": [
    "data_frame[columns.HUMIDITY].describe()"
   ]
  },
  {
   "cell_type": "code",
   "execution_count": 102,
   "metadata": {},
   "outputs": [
    {
     "data": {
      "text/plain": [
       "count    994424.000000\n",
       "mean         73.570277\n",
       "std          18.713490\n",
       "min           7.410000\n",
       "25%          60.170000\n",
       "50%          77.100000\n",
       "75%          88.600000\n",
       "max         100.000000\n",
       "Name: Umidade relativa Média (%), dtype: float64"
      ]
     },
     "execution_count": 102,
     "metadata": {},
     "output_type": "execute_result"
    }
   ],
   "source": [
    "data_frame_without_invalid_air_mois = data_frame.loc[(data_frame[columns.HUMIDITY] >= _MIN_AIR_MOISTURE) & (data_frame[columns.HUMIDITY] <= _MAX_AIR_MOISTURE), :]\n",
    "data_frame_without_invalid_air_mois[columns.HUMIDITY].describe()"
   ]
  },
  {
   "cell_type": "code",
   "execution_count": 103,
   "metadata": {},
   "outputs": [
    {
     "data": {
      "text/plain": [
       "12"
      ]
     },
     "execution_count": 103,
     "metadata": {},
     "output_type": "execute_result"
    }
   ],
   "source": [
    "data_frame.shape[0] - data_frame_without_invalid_air_mois.shape[0]"
   ]
  },
  {
   "cell_type": "code",
   "execution_count": 104,
   "metadata": {},
   "outputs": [],
   "source": [
    "data_frame = data_frame_without_invalid_air_mois"
   ]
  },
  {
   "cell_type": "markdown",
   "metadata": {},
   "source": [
    "### Removing invalid Air pressure measurements"
   ]
  },
  {
   "cell_type": "code",
   "execution_count": 108,
   "metadata": {},
   "outputs": [],
   "source": [
    "_MIN_AIR_PRESSURE=822\n",
    "_MAX_AIR_PRESSURE=1030"
   ]
  },
  {
   "cell_type": "code",
   "execution_count": 109,
   "metadata": {},
   "outputs": [
    {
     "data": {
      "text/plain": [
       "count    994424.000000\n",
       "mean        946.432905\n",
       "std          80.712954\n",
       "min       -6999.000000\n",
       "25%         942.000000\n",
       "50%         947.000000\n",
       "75%         952.000000\n",
       "max        2802.000000\n",
       "Name: Pressão (hPa), dtype: float64"
      ]
     },
     "execution_count": 109,
     "metadata": {},
     "output_type": "execute_result"
    }
   ],
   "source": [
    "data_frame[columns.PRESSURE].describe()"
   ]
  },
  {
   "cell_type": "code",
   "execution_count": 110,
   "metadata": {},
   "outputs": [
    {
     "data": {
      "text/plain": [
       "count    994234.000000\n",
       "mean        947.238158\n",
       "std           6.734704\n",
       "min         822.000000\n",
       "25%         942.000000\n",
       "50%         947.000000\n",
       "75%         952.000000\n",
       "max        1028.000000\n",
       "Name: Pressão (hPa), dtype: float64"
      ]
     },
     "execution_count": 110,
     "metadata": {},
     "output_type": "execute_result"
    }
   ],
   "source": [
    "data_frame_without_invalid_air_press = data_frame.loc[(data_frame[columns.PRESSURE] >= _MIN_AIR_PRESSURE) & (data_frame[columns.PRESSURE] <= _MAX_AIR_PRESSURE), :]\n",
    "data_frame_without_invalid_air_press[columns.PRESSURE].describe()"
   ]
  },
  {
   "cell_type": "code",
   "execution_count": 111,
   "metadata": {},
   "outputs": [
    {
     "data": {
      "text/plain": [
       "190"
      ]
     },
     "execution_count": 111,
     "metadata": {},
     "output_type": "execute_result"
    }
   ],
   "source": [
    "data_frame.shape[0] - data_frame_without_invalid_air_press.shape[0]"
   ]
  },
  {
   "cell_type": "code",
   "execution_count": 112,
   "metadata": {},
   "outputs": [],
   "source": [
    "data_frame = data_frame_without_invalid_air_press"
   ]
  },
  {
   "cell_type": "markdown",
   "metadata": {},
   "source": [
    "### Removing invalid Wind Directionmeasurements"
   ]
  },
  {
   "cell_type": "code",
   "execution_count": 113,
   "metadata": {},
   "outputs": [],
   "source": [
    "_MIN_WIND_DIRECTION=0\n",
    "_MAX_WIND_DIRECTION=360"
   ]
  },
  {
   "cell_type": "code",
   "execution_count": 114,
   "metadata": {},
   "outputs": [
    {
     "data": {
      "text/plain": [
       "count    994234.000000\n",
       "mean        238.645789\n",
       "std         554.298967\n",
       "min           0.000000\n",
       "25%          97.600000\n",
       "50%         156.800000\n",
       "75%         256.500000\n",
       "max        6999.000000\n",
       "Name: Direção do Vento no instante da aquisição (°), dtype: float64"
      ]
     },
     "execution_count": 114,
     "metadata": {},
     "output_type": "execute_result"
    }
   ],
   "source": [
    "data_frame[columns.WIND_DIRECTION].describe()"
   ]
  },
  {
   "cell_type": "code",
   "execution_count": 115,
   "metadata": {},
   "outputs": [
    {
     "data": {
      "text/plain": [
       "count    973821.000000\n",
       "mean        168.790247\n",
       "std          96.835213\n",
       "min           0.000000\n",
       "25%          95.800000\n",
       "50%         154.200000\n",
       "75%         250.900000\n",
       "max         360.000000\n",
       "Name: Direção do Vento no instante da aquisição (°), dtype: float64"
      ]
     },
     "execution_count": 115,
     "metadata": {},
     "output_type": "execute_result"
    }
   ],
   "source": [
    "data_frame_without_invalid_wind_dir = data_frame.loc[(data_frame[columns.WIND_DIRECTION] >= _MIN_WIND_DIRECTION) & (data_frame[columns.WIND_DIRECTION] <= _MAX_WIND_DIRECTION), :]\n",
    "data_frame_without_invalid_wind_dir[columns.WIND_DIRECTION].describe()"
   ]
  },
  {
   "cell_type": "code",
   "execution_count": 116,
   "metadata": {},
   "outputs": [
    {
     "data": {
      "text/plain": [
       "20413"
      ]
     },
     "execution_count": 116,
     "metadata": {},
     "output_type": "execute_result"
    }
   ],
   "source": [
    "data_frame.shape[0] - data_frame_without_invalid_wind_dir.shape[0]"
   ]
  },
  {
   "cell_type": "code",
   "execution_count": 117,
   "metadata": {},
   "outputs": [],
   "source": [
    "# I'm commenting this for now to avoid removing valid temperature and pression measurements.\n",
    "#data_frame = data_frame_without_invalid_wind_dir"
   ]
  },
  {
   "cell_type": "markdown",
   "metadata": {},
   "source": [
    "### Results after cleaning"
   ]
  },
  {
   "cell_type": "code",
   "execution_count": 119,
   "metadata": {},
   "outputs": [
    {
     "name": "stdout",
     "output_type": "stream",
     "text": [
      "3727 observations were removed what is 0.37% of the dataset\n"
     ]
    }
   ],
   "source": [
    "original_amount_of_lines = original_shape[0]\n",
    "amount_of_lines_after_cleaning = data_frame.shape[0]\n",
    "amount_of_lines_removed = original_amount_of_lines - amount_of_lines_after_cleaning\n",
    "\n",
    "percentage_of_lines_removed = 100 * amount_of_lines_removed / original_amount_of_lines\n",
    "\n",
    "percentage_of_lines_removed = round(percentage_of_lines_removed, 2)\n",
    "\n",
    "print(f\"{amount_of_lines_removed} observations were removed what is {percentage_of_lines_removed}% of the dataset\")\n"
   ]
  },
  {
   "cell_type": "markdown",
   "metadata": {},
   "source": [
    "### Creating the date column"
   ]
  },
  {
   "cell_type": "code",
   "execution_count": 120,
   "metadata": {},
   "outputs": [
    {
     "name": "stderr",
     "output_type": "stream",
     "text": [
      "/home/felipepedroso/.local/lib/python3.6/site-packages/ipykernel_launcher.py:3: SettingWithCopyWarning: \n",
      "A value is trying to be set on a copy of a slice from a DataFrame.\n",
      "Try using .loc[row_indexer,col_indexer] = value instead\n",
      "\n",
      "See the caveats in the documentation: http://pandas.pydata.org/pandas-docs/stable/indexing.html#indexing-view-versus-copy\n",
      "  This is separate from the ipykernel package so we can avoid doing imports until\n"
     ]
    }
   ],
   "source": [
    "year_mapping = data_frame[columns.YEAR].map(lambda year : datetime(year, 1, 1))\n",
    "time_delta_mapping = data_frame[columns.JULIAN_DAY].map(lambda day : timedelta(day-1))\n",
    "data_frame[columns.DATE] = year_mapping + time_delta_mapping"
   ]
  },
  {
   "cell_type": "markdown",
   "metadata": {},
   "source": [
    "### Saving CSV"
   ]
  },
  {
   "cell_type": "code",
   "execution_count": 121,
   "metadata": {},
   "outputs": [],
   "source": [
    "data_frame.to_csv(datasets.FIRST_CLEAN_DATA_SET_111_PATH, index = False, encoding=datasets.DEFAULT_CSV_ENCODING)"
   ]
  }
 ],
 "metadata": {
  "kernelspec": {
   "display_name": "Python 2",
   "language": "python",
   "name": "python2"
  },
  "language_info": {
   "codemirror_mode": {
    "name": "ipython",
    "version": 3
   },
   "file_extension": ".py",
   "mimetype": "text/x-python",
   "name": "python",
   "nbconvert_exporter": "python",
   "pygments_lexer": "ipython3",
   "version": "3.6.8"
  }
 },
 "nbformat": 4,
 "nbformat_minor": 2
}
