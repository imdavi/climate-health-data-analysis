{
 "cells": [
  {
   "cell_type": "code",
   "execution_count": 1,
   "metadata": {},
   "outputs": [],
   "source": [
    "# Enabling reloading extension to use external python files\n",
    "%load_ext autoreload\n",
    "%autoreload 2"
   ]
  },
  {
   "cell_type": "code",
   "execution_count": 2,
   "metadata": {},
   "outputs": [],
   "source": [
    "import pandas as pd\n",
    "import numpy as np\n",
    "import os\n",
    "from datetime import datetime, timedelta\n",
    "import columns\n",
    "import datasets\n",
    "import seasons\n",
    "import directory_utils"
   ]
  },
  {
   "cell_type": "code",
   "execution_count": 3,
   "metadata": {},
   "outputs": [
    {
     "name": "stdout",
     "output_type": "stream",
     "text": [
      "Days range: range(0, 367)\n",
      "Hours range: range(-1, 2401)\n",
      "Years range: range(1996, 2017)\n"
     ]
    }
   ],
   "source": [
    "_MIN_DAY_VALUE = 1\n",
    "_MAX_DAY_VALUE = 366\n",
    "_DAYS_RANGE = range(_MIN_DAY_VALUE - 1, _MAX_DAY_VALUE + 1)\n",
    "print(\"Days range: \" + str(_DAYS_RANGE))\n",
    "\n",
    "_MIN_HOUR_VALUE = 0\n",
    "_MAX_HOUR_VALUE = 2400\n",
    "_HOURS_RANGE = range(_MIN_HOUR_VALUE - 1, _MAX_HOUR_VALUE + 1)\n",
    "print(\"Hours range: \" + str(_HOURS_RANGE))\n",
    "\n",
    "_MIN_YEAR_VALUE = 1997\n",
    "_MAX_YEAR_VALUE = 2016\n",
    "_YEARS_RANGE = range(_MIN_YEAR_VALUE - 1, _MAX_YEAR_VALUE + 1)\n",
    "print(\"Years range: \" + str(_YEARS_RANGE))"
   ]
  },
  {
   "cell_type": "code",
   "execution_count": 4,
   "metadata": {},
   "outputs": [
    {
     "name": "stderr",
     "output_type": "stream",
     "text": [
      "/home/felipepedroso/.local/lib/python3.6/site-packages/IPython/core/interactiveshell.py:3057: DtypeWarning: Columns (15,17) have mixed types. Specify dtype option on import or set low_memory=False.\n",
      "  interactivity=interactivity, compiler=compiler, result=result)\n"
     ]
    }
   ],
   "source": [
    "data_frame = pd.read_csv(datasets.MERGED_CSVS__DATA_SET_111_PATH, encoding=datasets.DEFAULT_CSV_ENCODING)"
   ]
  },
  {
   "cell_type": "code",
   "execution_count": 5,
   "metadata": {},
   "outputs": [
    {
     "data": {
      "text/plain": [
       "(1050445, 18)"
      ]
     },
     "execution_count": 5,
     "metadata": {},
     "output_type": "execute_result"
    }
   ],
   "source": [
    "original_shape = data_frame.shape\n",
    "original_shape"
   ]
  },
  {
   "cell_type": "code",
   "execution_count": 6,
   "metadata": {},
   "outputs": [
    {
     "data": {
      "text/html": [
       "<div>\n",
       "<style scoped>\n",
       "    .dataframe tbody tr th:only-of-type {\n",
       "        vertical-align: middle;\n",
       "    }\n",
       "\n",
       "    .dataframe tbody tr th {\n",
       "        vertical-align: top;\n",
       "    }\n",
       "\n",
       "    .dataframe thead th {\n",
       "        text-align: right;\n",
       "    }\n",
       "</style>\n",
       "<table border=\"1\" class=\"dataframe\">\n",
       "  <thead>\n",
       "    <tr style=\"text-align: right;\">\n",
       "      <th></th>\n",
       "      <th>Cod</th>\n",
       "      <th>Ano</th>\n",
       "      <th>Dia Juliano</th>\n",
       "      <th>Hora - minuto</th>\n",
       "      <th>Veloc. Instantânea do Vento a 5 metros (m/s)</th>\n",
       "      <th>Veloc. Instantânea do Vento a 2 metros (m/s)</th>\n",
       "      <th>Direção do Vento no instante da aquisição (°)</th>\n",
       "      <th>Radiação Incidente total de 10 leituras (KW/m2)</th>\n",
       "      <th>Radiação Refletida Total de 10 leituras (KW/m2)</th>\n",
       "      <th>Fluxo Positivo de calor no solo total de 10 leituras (W/m2)</th>\n",
       "      <th>Fluxo negativo de calor no solo . total de 10 leituras (W/m2)</th>\n",
       "      <th>Umidade relativa Média (%)</th>\n",
       "      <th>Temperatura do Ar Média (°C)</th>\n",
       "      <th>Temperatura do solo  1 Média (°C) à 3cm no solo</th>\n",
       "      <th>Temperatura do solo 2Média (°C) à 6cm no solo</th>\n",
       "      <th>Temperatura do solo 3Média (°C) Colocado sensor de UV em 31/07/09</th>\n",
       "      <th>Pressão (hPa)</th>\n",
       "      <th>Chuva total do período (mm)</th>\n",
       "    </tr>\n",
       "  </thead>\n",
       "  <tbody>\n",
       "    <tr>\n",
       "      <th>0</th>\n",
       "      <td>111</td>\n",
       "      <td>1997</td>\n",
       "      <td>1.0</td>\n",
       "      <td>10</td>\n",
       "      <td>1618.00</td>\n",
       "      <td>1115.000</td>\n",
       "      <td>8.32</td>\n",
       "      <td>0.0</td>\n",
       "      <td>0.0</td>\n",
       "      <td>0.0</td>\n",
       "      <td>-443.0</td>\n",
       "      <td>92.3</td>\n",
       "      <td>19.84</td>\n",
       "      <td>21.04</td>\n",
       "      <td>22.68</td>\n",
       "      <td>24.59</td>\n",
       "      <td>943.0</td>\n",
       "      <td>0</td>\n",
       "    </tr>\n",
       "    <tr>\n",
       "      <th>1</th>\n",
       "      <td>111</td>\n",
       "      <td>1997</td>\n",
       "      <td>1.0</td>\n",
       "      <td>20</td>\n",
       "      <td>0.99</td>\n",
       "      <td>0.763</td>\n",
       "      <td>20.59</td>\n",
       "      <td>0.0</td>\n",
       "      <td>0.0</td>\n",
       "      <td>0.0</td>\n",
       "      <td>-443.0</td>\n",
       "      <td>93.1</td>\n",
       "      <td>19.63</td>\n",
       "      <td>20.97</td>\n",
       "      <td>22.65</td>\n",
       "      <td>24.52</td>\n",
       "      <td>943.0</td>\n",
       "      <td>0</td>\n",
       "    </tr>\n",
       "  </tbody>\n",
       "</table>\n",
       "</div>"
      ],
      "text/plain": [
       "   Cod   Ano  Dia Juliano  Hora - minuto  \\\n",
       "0  111  1997          1.0             10   \n",
       "1  111  1997          1.0             20   \n",
       "\n",
       "   Veloc. Instantânea do Vento a 5 metros (m/s)  \\\n",
       "0                                       1618.00   \n",
       "1                                          0.99   \n",
       "\n",
       "   Veloc. Instantânea do Vento a 2 metros (m/s)  \\\n",
       "0                                      1115.000   \n",
       "1                                         0.763   \n",
       "\n",
       "   Direção do Vento no instante da aquisição (°)  \\\n",
       "0                                           8.32   \n",
       "1                                          20.59   \n",
       "\n",
       "   Radiação Incidente total de 10 leituras (KW/m2)  \\\n",
       "0                                              0.0   \n",
       "1                                              0.0   \n",
       "\n",
       "   Radiação Refletida Total de 10 leituras (KW/m2)  \\\n",
       "0                                              0.0   \n",
       "1                                              0.0   \n",
       "\n",
       "   Fluxo Positivo de calor no solo total de 10 leituras (W/m2)  \\\n",
       "0                                                0.0             \n",
       "1                                                0.0             \n",
       "\n",
       "   Fluxo negativo de calor no solo . total de 10 leituras (W/m2)  \\\n",
       "0                                             -443.0               \n",
       "1                                             -443.0               \n",
       "\n",
       "   Umidade relativa Média (%)  Temperatura do Ar Média (°C)  \\\n",
       "0                        92.3                         19.84   \n",
       "1                        93.1                         19.63   \n",
       "\n",
       "   Temperatura do solo  1 Média (°C) à 3cm no solo  \\\n",
       "0                                            21.04   \n",
       "1                                            20.97   \n",
       "\n",
       "   Temperatura do solo 2Média (°C) à 6cm no solo   \\\n",
       "0                                           22.68   \n",
       "1                                           22.65   \n",
       "\n",
       "  Temperatura do solo 3Média (°C) Colocado sensor de UV em 31/07/09  \\\n",
       "0                                              24.59                  \n",
       "1                                              24.52                  \n",
       "\n",
       "   Pressão (hPa) Chuva total do período (mm)  \n",
       "0          943.0                           0  \n",
       "1          943.0                           0  "
      ]
     },
     "execution_count": 6,
     "metadata": {},
     "output_type": "execute_result"
    }
   ],
   "source": [
    "data_frame.head(2)"
   ]
  },
  {
   "cell_type": "code",
   "execution_count": 7,
   "metadata": {},
   "outputs": [
    {
     "data": {
      "text/html": [
       "<div>\n",
       "<style scoped>\n",
       "    .dataframe tbody tr th:only-of-type {\n",
       "        vertical-align: middle;\n",
       "    }\n",
       "\n",
       "    .dataframe tbody tr th {\n",
       "        vertical-align: top;\n",
       "    }\n",
       "\n",
       "    .dataframe thead th {\n",
       "        text-align: right;\n",
       "    }\n",
       "</style>\n",
       "<table border=\"1\" class=\"dataframe\">\n",
       "  <thead>\n",
       "    <tr style=\"text-align: right;\">\n",
       "      <th></th>\n",
       "      <th>Cod</th>\n",
       "      <th>Ano</th>\n",
       "      <th>Dia Juliano</th>\n",
       "      <th>Hora - minuto</th>\n",
       "      <th>Veloc. Instantânea do Vento a 5 metros (m/s)</th>\n",
       "      <th>Veloc. Instantânea do Vento a 2 metros (m/s)</th>\n",
       "      <th>Direção do Vento no instante da aquisição (°)</th>\n",
       "      <th>Radiação Incidente total de 10 leituras (KW/m2)</th>\n",
       "      <th>Radiação Refletida Total de 10 leituras (KW/m2)</th>\n",
       "      <th>Fluxo Positivo de calor no solo total de 10 leituras (W/m2)</th>\n",
       "      <th>Fluxo negativo de calor no solo . total de 10 leituras (W/m2)</th>\n",
       "      <th>Umidade relativa Média (%)</th>\n",
       "      <th>Temperatura do Ar Média (°C)</th>\n",
       "      <th>Temperatura do solo  1 Média (°C) à 3cm no solo</th>\n",
       "      <th>Temperatura do solo 2Média (°C) à 6cm no solo</th>\n",
       "      <th>Pressão (hPa)</th>\n",
       "    </tr>\n",
       "  </thead>\n",
       "  <tbody>\n",
       "    <tr>\n",
       "      <th>count</th>\n",
       "      <td>1.050445e+06</td>\n",
       "      <td>1.050445e+06</td>\n",
       "      <td>1.050445e+06</td>\n",
       "      <td>1.050445e+06</td>\n",
       "      <td>1.050445e+06</td>\n",
       "      <td>1.050445e+06</td>\n",
       "      <td>1.050445e+06</td>\n",
       "      <td>1.050445e+06</td>\n",
       "      <td>1.050445e+06</td>\n",
       "      <td>1.050445e+06</td>\n",
       "      <td>1.048620e+06</td>\n",
       "      <td>1.048619e+06</td>\n",
       "      <td>1.048619e+06</td>\n",
       "      <td>1.048254e+06</td>\n",
       "      <td>1.048254e+06</td>\n",
       "      <td>1.048254e+06</td>\n",
       "    </tr>\n",
       "    <tr>\n",
       "      <th>mean</th>\n",
       "      <td>1.114778e+02</td>\n",
       "      <td>2.006549e+03</td>\n",
       "      <td>1.835618e+02</td>\n",
       "      <td>1.192104e+03</td>\n",
       "      <td>1.472154e+03</td>\n",
       "      <td>9.129840e+02</td>\n",
       "      <td>2.723121e+02</td>\n",
       "      <td>7.622076e+02</td>\n",
       "      <td>2.706437e+02</td>\n",
       "      <td>3.653693e+02</td>\n",
       "      <td>-1.662485e+03</td>\n",
       "      <td>7.404259e+01</td>\n",
       "      <td>2.634531e+01</td>\n",
       "      <td>1.332214e+03</td>\n",
       "      <td>1.296305e+03</td>\n",
       "      <td>9.462274e+02</td>\n",
       "    </tr>\n",
       "    <tr>\n",
       "      <th>std</th>\n",
       "      <td>9.895335e+00</td>\n",
       "      <td>5.762457e+00</td>\n",
       "      <td>1.053855e+02</td>\n",
       "      <td>6.927634e+02</td>\n",
       "      <td>1.353874e+03</td>\n",
       "      <td>1.134761e+03</td>\n",
       "      <td>6.693158e+02</td>\n",
       "      <td>1.611430e+03</td>\n",
       "      <td>8.889303e+02</td>\n",
       "      <td>1.147225e+03</td>\n",
       "      <td>2.796438e+03</td>\n",
       "      <td>2.748618e+01</td>\n",
       "      <td>2.413575e+02</td>\n",
       "      <td>2.725003e+03</td>\n",
       "      <td>2.694402e+03</td>\n",
       "      <td>8.089817e+01</td>\n",
       "    </tr>\n",
       "    <tr>\n",
       "      <th>min</th>\n",
       "      <td>1.110000e+02</td>\n",
       "      <td>1.997000e+03</td>\n",
       "      <td>-5.336000e+01</td>\n",
       "      <td>1.000000e+01</td>\n",
       "      <td>-6.999000e+03</td>\n",
       "      <td>0.000000e+00</td>\n",
       "      <td>0.000000e+00</td>\n",
       "      <td>-6.999000e+03</td>\n",
       "      <td>0.000000e+00</td>\n",
       "      <td>0.000000e+00</td>\n",
       "      <td>-6.999000e+03</td>\n",
       "      <td>-6.999000e+03</td>\n",
       "      <td>-6.999000e+03</td>\n",
       "      <td>-6.999000e+03</td>\n",
       "      <td>-6.999000e+03</td>\n",
       "      <td>-6.999000e+03</td>\n",
       "    </tr>\n",
       "    <tr>\n",
       "      <th>25%</th>\n",
       "      <td>1.110000e+02</td>\n",
       "      <td>2.002000e+03</td>\n",
       "      <td>9.300000e+01</td>\n",
       "      <td>6.100000e+02</td>\n",
       "      <td>1.010000e+00</td>\n",
       "      <td>5.390000e-01</td>\n",
       "      <td>9.380000e+01</td>\n",
       "      <td>0.000000e+00</td>\n",
       "      <td>0.000000e+00</td>\n",
       "      <td>0.000000e+00</td>\n",
       "      <td>-5.298000e+02</td>\n",
       "      <td>6.053000e+01</td>\n",
       "      <td>1.813000e+01</td>\n",
       "      <td>2.049000e+01</td>\n",
       "      <td>2.117000e+01</td>\n",
       "      <td>9.430000e+02</td>\n",
       "    </tr>\n",
       "    <tr>\n",
       "      <th>50%</th>\n",
       "      <td>1.110000e+02</td>\n",
       "      <td>2.007000e+03</td>\n",
       "      <td>1.840000e+02</td>\n",
       "      <td>1.210000e+03</td>\n",
       "      <td>1.481000e+03</td>\n",
       "      <td>1.010000e+00</td>\n",
       "      <td>1.555000e+02</td>\n",
       "      <td>0.000000e+00</td>\n",
       "      <td>0.000000e+00</td>\n",
       "      <td>0.000000e+00</td>\n",
       "      <td>-2.460000e+02</td>\n",
       "      <td>7.750000e+01</td>\n",
       "      <td>2.114000e+01</td>\n",
       "      <td>2.448000e+01</td>\n",
       "      <td>2.493000e+01</td>\n",
       "      <td>9.470000e+02</td>\n",
       "    </tr>\n",
       "    <tr>\n",
       "      <th>75%</th>\n",
       "      <td>1.110000e+02</td>\n",
       "      <td>2.012000e+03</td>\n",
       "      <td>2.750000e+02</td>\n",
       "      <td>1.810000e+03</td>\n",
       "      <td>2.265000e+03</td>\n",
       "      <td>1.716000e+03</td>\n",
       "      <td>2.576000e+02</td>\n",
       "      <td>4.338000e+02</td>\n",
       "      <td>9.890000e-01</td>\n",
       "      <td>1.788000e+02</td>\n",
       "      <td>0.000000e+00</td>\n",
       "      <td>8.920000e+01</td>\n",
       "      <td>2.510000e+01</td>\n",
       "      <td>3.198000e+01</td>\n",
       "      <td>2.988000e+01</td>\n",
       "      <td>9.520000e+02</td>\n",
       "    </tr>\n",
       "    <tr>\n",
       "      <th>max</th>\n",
       "      <td>3.330000e+02</td>\n",
       "      <td>2.139000e+03</td>\n",
       "      <td>6.540000e+02</td>\n",
       "      <td>6.640000e+03</td>\n",
       "      <td>6.996000e+03</td>\n",
       "      <td>6.999000e+03</td>\n",
       "      <td>6.999000e+03</td>\n",
       "      <td>6.999000e+03</td>\n",
       "      <td>6.999000e+03</td>\n",
       "      <td>6.999000e+03</td>\n",
       "      <td>6.538000e+03</td>\n",
       "      <td>6.836000e+03</td>\n",
       "      <td>1.822660e+05</td>\n",
       "      <td>6.999000e+03</td>\n",
       "      <td>6.999000e+03</td>\n",
       "      <td>2.802000e+03</td>\n",
       "    </tr>\n",
       "  </tbody>\n",
       "</table>\n",
       "</div>"
      ],
      "text/plain": [
       "                Cod           Ano   Dia Juliano  Hora - minuto  \\\n",
       "count  1.050445e+06  1.050445e+06  1.050445e+06   1.050445e+06   \n",
       "mean   1.114778e+02  2.006549e+03  1.835618e+02   1.192104e+03   \n",
       "std    9.895335e+00  5.762457e+00  1.053855e+02   6.927634e+02   \n",
       "min    1.110000e+02  1.997000e+03 -5.336000e+01   1.000000e+01   \n",
       "25%    1.110000e+02  2.002000e+03  9.300000e+01   6.100000e+02   \n",
       "50%    1.110000e+02  2.007000e+03  1.840000e+02   1.210000e+03   \n",
       "75%    1.110000e+02  2.012000e+03  2.750000e+02   1.810000e+03   \n",
       "max    3.330000e+02  2.139000e+03  6.540000e+02   6.640000e+03   \n",
       "\n",
       "       Veloc. Instantânea do Vento a 5 metros (m/s)  \\\n",
       "count                                  1.050445e+06   \n",
       "mean                                   1.472154e+03   \n",
       "std                                    1.353874e+03   \n",
       "min                                   -6.999000e+03   \n",
       "25%                                    1.010000e+00   \n",
       "50%                                    1.481000e+03   \n",
       "75%                                    2.265000e+03   \n",
       "max                                    6.996000e+03   \n",
       "\n",
       "       Veloc. Instantânea do Vento a 2 metros (m/s)  \\\n",
       "count                                  1.050445e+06   \n",
       "mean                                   9.129840e+02   \n",
       "std                                    1.134761e+03   \n",
       "min                                    0.000000e+00   \n",
       "25%                                    5.390000e-01   \n",
       "50%                                    1.010000e+00   \n",
       "75%                                    1.716000e+03   \n",
       "max                                    6.999000e+03   \n",
       "\n",
       "       Direção do Vento no instante da aquisição (°)  \\\n",
       "count                                   1.050445e+06   \n",
       "mean                                    2.723121e+02   \n",
       "std                                     6.693158e+02   \n",
       "min                                     0.000000e+00   \n",
       "25%                                     9.380000e+01   \n",
       "50%                                     1.555000e+02   \n",
       "75%                                     2.576000e+02   \n",
       "max                                     6.999000e+03   \n",
       "\n",
       "       Radiação Incidente total de 10 leituras (KW/m2)  \\\n",
       "count                                     1.050445e+06   \n",
       "mean                                      7.622076e+02   \n",
       "std                                       1.611430e+03   \n",
       "min                                      -6.999000e+03   \n",
       "25%                                       0.000000e+00   \n",
       "50%                                       0.000000e+00   \n",
       "75%                                       4.338000e+02   \n",
       "max                                       6.999000e+03   \n",
       "\n",
       "       Radiação Refletida Total de 10 leituras (KW/m2)  \\\n",
       "count                                     1.050445e+06   \n",
       "mean                                      2.706437e+02   \n",
       "std                                       8.889303e+02   \n",
       "min                                       0.000000e+00   \n",
       "25%                                       0.000000e+00   \n",
       "50%                                       0.000000e+00   \n",
       "75%                                       9.890000e-01   \n",
       "max                                       6.999000e+03   \n",
       "\n",
       "       Fluxo Positivo de calor no solo total de 10 leituras (W/m2)  \\\n",
       "count                                       1.050445e+06             \n",
       "mean                                        3.653693e+02             \n",
       "std                                         1.147225e+03             \n",
       "min                                         0.000000e+00             \n",
       "25%                                         0.000000e+00             \n",
       "50%                                         0.000000e+00             \n",
       "75%                                         1.788000e+02             \n",
       "max                                         6.999000e+03             \n",
       "\n",
       "       Fluxo negativo de calor no solo . total de 10 leituras (W/m2)  \\\n",
       "count                                       1.048620e+06               \n",
       "mean                                       -1.662485e+03               \n",
       "std                                         2.796438e+03               \n",
       "min                                        -6.999000e+03               \n",
       "25%                                        -5.298000e+02               \n",
       "50%                                        -2.460000e+02               \n",
       "75%                                         0.000000e+00               \n",
       "max                                         6.538000e+03               \n",
       "\n",
       "       Umidade relativa Média (%)  Temperatura do Ar Média (°C)  \\\n",
       "count                1.048619e+06                  1.048619e+06   \n",
       "mean                 7.404259e+01                  2.634531e+01   \n",
       "std                  2.748618e+01                  2.413575e+02   \n",
       "min                 -6.999000e+03                 -6.999000e+03   \n",
       "25%                  6.053000e+01                  1.813000e+01   \n",
       "50%                  7.750000e+01                  2.114000e+01   \n",
       "75%                  8.920000e+01                  2.510000e+01   \n",
       "max                  6.836000e+03                  1.822660e+05   \n",
       "\n",
       "       Temperatura do solo  1 Média (°C) à 3cm no solo  \\\n",
       "count                                     1.048254e+06   \n",
       "mean                                      1.332214e+03   \n",
       "std                                       2.725003e+03   \n",
       "min                                      -6.999000e+03   \n",
       "25%                                       2.049000e+01   \n",
       "50%                                       2.448000e+01   \n",
       "75%                                       3.198000e+01   \n",
       "max                                       6.999000e+03   \n",
       "\n",
       "       Temperatura do solo 2Média (°C) à 6cm no solo   Pressão (hPa)  \n",
       "count                                    1.048254e+06   1.048254e+06  \n",
       "mean                                     1.296305e+03   9.462274e+02  \n",
       "std                                      2.694402e+03   8.089817e+01  \n",
       "min                                     -6.999000e+03  -6.999000e+03  \n",
       "25%                                      2.117000e+01   9.430000e+02  \n",
       "50%                                      2.493000e+01   9.470000e+02  \n",
       "75%                                      2.988000e+01   9.520000e+02  \n",
       "max                                      6.999000e+03   2.802000e+03  "
      ]
     },
     "execution_count": 7,
     "metadata": {},
     "output_type": "execute_result"
    }
   ],
   "source": [
    "data_frame.describe()"
   ]
  },
  {
   "cell_type": "markdown",
   "metadata": {},
   "source": [
    "### Removing invalid days, hours and years"
   ]
  },
  {
   "cell_type": "code",
   "execution_count": 8,
   "metadata": {},
   "outputs": [],
   "source": [
    "def is_in_range(range, value):\n",
    "    return value in range\n",
    "def is_not_in_range(range, value):\n",
    "    return value not in range"
   ]
  },
  {
   "cell_type": "code",
   "execution_count": 9,
   "metadata": {},
   "outputs": [
    {
     "data": {
      "text/plain": [
       "array([-53.36, 388.  ,  29.77, 654.  ])"
      ]
     },
     "execution_count": 9,
     "metadata": {},
     "output_type": "execute_result"
    }
   ],
   "source": [
    "_days_not_in_range_filter = data_frame[columns.JULIAN_DAY].map(lambda value: is_not_in_range(_DAYS_RANGE, value))\n",
    "data_frame[_days_not_in_range_filter][columns.JULIAN_DAY].unique()"
   ]
  },
  {
   "cell_type": "code",
   "execution_count": 10,
   "metadata": {},
   "outputs": [],
   "source": [
    "_days_in_range_filter = data_frame[columns.JULIAN_DAY].map(lambda value: is_in_range(_DAYS_RANGE, value))\n",
    "data_frame = data_frame[_days_in_range_filter]"
   ]
  },
  {
   "cell_type": "code",
   "execution_count": 11,
   "metadata": {},
   "outputs": [
    {
     "data": {
      "text/plain": [
       "array([2017])"
      ]
     },
     "execution_count": 11,
     "metadata": {},
     "output_type": "execute_result"
    }
   ],
   "source": [
    "_years_not_in_range_filter = data_frame[columns.YEAR].map(lambda value: is_not_in_range(_YEARS_RANGE, value))\n",
    "data_frame[_years_not_in_range_filter][columns.YEAR].unique()"
   ]
  },
  {
   "cell_type": "code",
   "execution_count": 12,
   "metadata": {},
   "outputs": [],
   "source": [
    "_years_in_range_filter = data_frame[columns.YEAR].map(lambda value: is_in_range(_YEARS_RANGE, value))\n",
    "data_frame = data_frame[_years_in_range_filter]"
   ]
  },
  {
   "cell_type": "code",
   "execution_count": 13,
   "metadata": {},
   "outputs": [
    {
     "data": {
      "text/plain": [
       "array([], dtype=int64)"
      ]
     },
     "execution_count": 13,
     "metadata": {},
     "output_type": "execute_result"
    }
   ],
   "source": [
    "_hours_not_in_range_filter = data_frame[columns.HOUR_MINUTE].map(lambda value: is_not_in_range(_HOURS_RANGE, value))\n",
    "\n",
    "data_frame[_hours_not_in_range_filter][columns.HOUR_MINUTE].unique()"
   ]
  },
  {
   "cell_type": "code",
   "execution_count": 14,
   "metadata": {},
   "outputs": [],
   "source": [
    "_hours_in_range_filter = data_frame[columns.HOUR_MINUTE].map(lambda value: is_in_range(_HOURS_RANGE, value))\n",
    "data_frame = data_frame[_hours_in_range_filter]"
   ]
  },
  {
   "cell_type": "code",
   "execution_count": 15,
   "metadata": {},
   "outputs": [
    {
     "data": {
      "text/plain": [
       "(1050269, 18)"
      ]
     },
     "execution_count": 15,
     "metadata": {},
     "output_type": "execute_result"
    }
   ],
   "source": [
    "data_frame.shape"
   ]
  },
  {
   "cell_type": "markdown",
   "metadata": {},
   "source": [
    "### Removing null values"
   ]
  },
  {
   "cell_type": "code",
   "execution_count": 16,
   "metadata": {},
   "outputs": [
    {
     "data": {
      "text/plain": [
       "Cod                                                                     0\n",
       "Ano                                                                     0\n",
       "Dia Juliano                                                             0\n",
       "Hora - minuto                                                           0\n",
       "Veloc. Instantânea do Vento a 5 metros (m/s)                            0\n",
       "Veloc. Instantânea do Vento a 2 metros (m/s)                            0\n",
       "Direção do Vento no instante da aquisição (°)                           0\n",
       "Radiação Incidente total de 10 leituras (KW/m2)                         0\n",
       "Radiação Refletida Total de 10 leituras (KW/m2)                         0\n",
       "Fluxo Positivo de calor no solo total de 10 leituras (W/m2)             0\n",
       "Fluxo negativo de calor no solo . total de 10 leituras (W/m2)        1825\n",
       "Umidade relativa Média (%)                                           1826\n",
       "Temperatura do Ar Média (°C)                                         1826\n",
       "Temperatura do solo  1 Média (°C) à 3cm no solo                      2191\n",
       "Temperatura do solo 2Média (°C) à 6cm no solo                        2191\n",
       "Temperatura do solo 3Média (°C) Colocado sensor de UV em 31/07/09    2191\n",
       "Pressão (hPa)                                                        2191\n",
       "Chuva total do período (mm)                                          2191\n",
       "dtype: int64"
      ]
     },
     "execution_count": 16,
     "metadata": {},
     "output_type": "execute_result"
    }
   ],
   "source": [
    "data_frame.isnull().sum()"
   ]
  },
  {
   "cell_type": "code",
   "execution_count": 17,
   "metadata": {},
   "outputs": [
    {
     "data": {
      "text/plain": [
       "(1050269, 18)"
      ]
     },
     "execution_count": 17,
     "metadata": {},
     "output_type": "execute_result"
    }
   ],
   "source": [
    "data_frame.shape"
   ]
  },
  {
   "cell_type": "code",
   "execution_count": 18,
   "metadata": {},
   "outputs": [
    {
     "data": {
      "text/plain": [
       "(1048078, 18)"
      ]
     },
     "execution_count": 18,
     "metadata": {},
     "output_type": "execute_result"
    }
   ],
   "source": [
    "data_frame.dropna().shape"
   ]
  },
  {
   "cell_type": "code",
   "execution_count": 19,
   "metadata": {},
   "outputs": [],
   "source": [
    "data_frame = data_frame.dropna()"
   ]
  },
  {
   "cell_type": "code",
   "execution_count": 20,
   "metadata": {},
   "outputs": [
    {
     "data": {
      "text/plain": [
       "Cod                                                                  0\n",
       "Ano                                                                  0\n",
       "Dia Juliano                                                          0\n",
       "Hora - minuto                                                        0\n",
       "Veloc. Instantânea do Vento a 5 metros (m/s)                         0\n",
       "Veloc. Instantânea do Vento a 2 metros (m/s)                         0\n",
       "Direção do Vento no instante da aquisição (°)                        0\n",
       "Radiação Incidente total de 10 leituras (KW/m2)                      0\n",
       "Radiação Refletida Total de 10 leituras (KW/m2)                      0\n",
       "Fluxo Positivo de calor no solo total de 10 leituras (W/m2)          0\n",
       "Fluxo negativo de calor no solo . total de 10 leituras (W/m2)        0\n",
       "Umidade relativa Média (%)                                           0\n",
       "Temperatura do Ar Média (°C)                                         0\n",
       "Temperatura do solo  1 Média (°C) à 3cm no solo                      0\n",
       "Temperatura do solo 2Média (°C) à 6cm no solo                        0\n",
       "Temperatura do solo 3Média (°C) Colocado sensor de UV em 31/07/09    0\n",
       "Pressão (hPa)                                                        0\n",
       "Chuva total do período (mm)                                          0\n",
       "dtype: int64"
      ]
     },
     "execution_count": 20,
     "metadata": {},
     "output_type": "execute_result"
    }
   ],
   "source": [
    "data_frame.isnull().sum()"
   ]
  },
  {
   "cell_type": "code",
   "execution_count": 21,
   "metadata": {},
   "outputs": [
    {
     "data": {
      "text/plain": [
       "(1048078, 18)"
      ]
     },
     "execution_count": 21,
     "metadata": {},
     "output_type": "execute_result"
    }
   ],
   "source": [
    "data_frame.shape"
   ]
  },
  {
   "cell_type": "markdown",
   "metadata": {},
   "source": [
    "### Removing days with value \"0\""
   ]
  },
  {
   "cell_type": "code",
   "execution_count": 22,
   "metadata": {},
   "outputs": [
    {
     "data": {
      "text/html": [
       "<div>\n",
       "<style scoped>\n",
       "    .dataframe tbody tr th:only-of-type {\n",
       "        vertical-align: middle;\n",
       "    }\n",
       "\n",
       "    .dataframe tbody tr th {\n",
       "        vertical-align: top;\n",
       "    }\n",
       "\n",
       "    .dataframe thead th {\n",
       "        text-align: right;\n",
       "    }\n",
       "</style>\n",
       "<table border=\"1\" class=\"dataframe\">\n",
       "  <thead>\n",
       "    <tr style=\"text-align: right;\">\n",
       "      <th></th>\n",
       "      <th>Cod</th>\n",
       "      <th>Ano</th>\n",
       "      <th>Dia Juliano</th>\n",
       "      <th>Hora - minuto</th>\n",
       "      <th>Veloc. Instantânea do Vento a 5 metros (m/s)</th>\n",
       "      <th>Veloc. Instantânea do Vento a 2 metros (m/s)</th>\n",
       "      <th>Direção do Vento no instante da aquisição (°)</th>\n",
       "      <th>Radiação Incidente total de 10 leituras (KW/m2)</th>\n",
       "      <th>Radiação Refletida Total de 10 leituras (KW/m2)</th>\n",
       "      <th>Fluxo Positivo de calor no solo total de 10 leituras (W/m2)</th>\n",
       "      <th>Fluxo negativo de calor no solo . total de 10 leituras (W/m2)</th>\n",
       "      <th>Umidade relativa Média (%)</th>\n",
       "      <th>Temperatura do Ar Média (°C)</th>\n",
       "      <th>Temperatura do solo  1 Média (°C) à 3cm no solo</th>\n",
       "      <th>Temperatura do solo 2Média (°C) à 6cm no solo</th>\n",
       "      <th>Temperatura do solo 3Média (°C) Colocado sensor de UV em 31/07/09</th>\n",
       "      <th>Pressão (hPa)</th>\n",
       "      <th>Chuva total do período (mm)</th>\n",
       "    </tr>\n",
       "  </thead>\n",
       "  <tbody>\n",
       "    <tr>\n",
       "      <th>714073</th>\n",
       "      <td>111</td>\n",
       "      <td>2000</td>\n",
       "      <td>0.0</td>\n",
       "      <td>10</td>\n",
       "      <td>2187.0</td>\n",
       "      <td>2187.0</td>\n",
       "      <td>354.5</td>\n",
       "      <td>0.0</td>\n",
       "      <td>0.0</td>\n",
       "      <td>42.23</td>\n",
       "      <td>0.0</td>\n",
       "      <td>35.45</td>\n",
       "      <td>27.75</td>\n",
       "      <td>20.49</td>\n",
       "      <td>18.88</td>\n",
       "      <td>4.4</td>\n",
       "      <td>949.0</td>\n",
       "      <td>0</td>\n",
       "    </tr>\n",
       "    <tr>\n",
       "      <th>714074</th>\n",
       "      <td>111</td>\n",
       "      <td>2000</td>\n",
       "      <td>0.0</td>\n",
       "      <td>20</td>\n",
       "      <td>1952.0</td>\n",
       "      <td>1952.0</td>\n",
       "      <td>319.8</td>\n",
       "      <td>0.0</td>\n",
       "      <td>0.0</td>\n",
       "      <td>441.90</td>\n",
       "      <td>0.0</td>\n",
       "      <td>36.56</td>\n",
       "      <td>27.51</td>\n",
       "      <td>20.80</td>\n",
       "      <td>18.97</td>\n",
       "      <td>4497</td>\n",
       "      <td>949.0</td>\n",
       "      <td>0</td>\n",
       "    </tr>\n",
       "    <tr>\n",
       "      <th>714075</th>\n",
       "      <td>111</td>\n",
       "      <td>2000</td>\n",
       "      <td>0.0</td>\n",
       "      <td>30</td>\n",
       "      <td>2187.0</td>\n",
       "      <td>2187.0</td>\n",
       "      <td>95.6</td>\n",
       "      <td>0.0</td>\n",
       "      <td>0.0</td>\n",
       "      <td>471.80</td>\n",
       "      <td>0.0</td>\n",
       "      <td>36.23</td>\n",
       "      <td>27.65</td>\n",
       "      <td>21.05</td>\n",
       "      <td>19.09</td>\n",
       "      <td>4506</td>\n",
       "      <td>949.0</td>\n",
       "      <td>0</td>\n",
       "    </tr>\n",
       "    <tr>\n",
       "      <th>714076</th>\n",
       "      <td>111</td>\n",
       "      <td>2000</td>\n",
       "      <td>0.0</td>\n",
       "      <td>40</td>\n",
       "      <td>3128.0</td>\n",
       "      <td>2893.0</td>\n",
       "      <td>79.1</td>\n",
       "      <td>0.0</td>\n",
       "      <td>0.0</td>\n",
       "      <td>499.40</td>\n",
       "      <td>0.0</td>\n",
       "      <td>34.85</td>\n",
       "      <td>28.19</td>\n",
       "      <td>21.35</td>\n",
       "      <td>19.16</td>\n",
       "      <td>4717</td>\n",
       "      <td>948.0</td>\n",
       "      <td>0</td>\n",
       "    </tr>\n",
       "  </tbody>\n",
       "</table>\n",
       "</div>"
      ],
      "text/plain": [
       "        Cod   Ano  Dia Juliano  Hora - minuto  \\\n",
       "714073  111  2000          0.0             10   \n",
       "714074  111  2000          0.0             20   \n",
       "714075  111  2000          0.0             30   \n",
       "714076  111  2000          0.0             40   \n",
       "\n",
       "        Veloc. Instantânea do Vento a 5 metros (m/s)  \\\n",
       "714073                                        2187.0   \n",
       "714074                                        1952.0   \n",
       "714075                                        2187.0   \n",
       "714076                                        3128.0   \n",
       "\n",
       "        Veloc. Instantânea do Vento a 2 metros (m/s)  \\\n",
       "714073                                        2187.0   \n",
       "714074                                        1952.0   \n",
       "714075                                        2187.0   \n",
       "714076                                        2893.0   \n",
       "\n",
       "        Direção do Vento no instante da aquisição (°)  \\\n",
       "714073                                          354.5   \n",
       "714074                                          319.8   \n",
       "714075                                           95.6   \n",
       "714076                                           79.1   \n",
       "\n",
       "        Radiação Incidente total de 10 leituras (KW/m2)  \\\n",
       "714073                                              0.0   \n",
       "714074                                              0.0   \n",
       "714075                                              0.0   \n",
       "714076                                              0.0   \n",
       "\n",
       "        Radiação Refletida Total de 10 leituras (KW/m2)  \\\n",
       "714073                                              0.0   \n",
       "714074                                              0.0   \n",
       "714075                                              0.0   \n",
       "714076                                              0.0   \n",
       "\n",
       "        Fluxo Positivo de calor no solo total de 10 leituras (W/m2)  \\\n",
       "714073                                              42.23             \n",
       "714074                                             441.90             \n",
       "714075                                             471.80             \n",
       "714076                                             499.40             \n",
       "\n",
       "        Fluxo negativo de calor no solo . total de 10 leituras (W/m2)  \\\n",
       "714073                                                0.0               \n",
       "714074                                                0.0               \n",
       "714075                                                0.0               \n",
       "714076                                                0.0               \n",
       "\n",
       "        Umidade relativa Média (%)  Temperatura do Ar Média (°C)  \\\n",
       "714073                       35.45                         27.75   \n",
       "714074                       36.56                         27.51   \n",
       "714075                       36.23                         27.65   \n",
       "714076                       34.85                         28.19   \n",
       "\n",
       "        Temperatura do solo  1 Média (°C) à 3cm no solo  \\\n",
       "714073                                            20.49   \n",
       "714074                                            20.80   \n",
       "714075                                            21.05   \n",
       "714076                                            21.35   \n",
       "\n",
       "        Temperatura do solo 2Média (°C) à 6cm no solo   \\\n",
       "714073                                           18.88   \n",
       "714074                                           18.97   \n",
       "714075                                           19.09   \n",
       "714076                                           19.16   \n",
       "\n",
       "       Temperatura do solo 3Média (°C) Colocado sensor de UV em 31/07/09  \\\n",
       "714073                                                4.4                  \n",
       "714074                                               4497                  \n",
       "714075                                               4506                  \n",
       "714076                                               4717                  \n",
       "\n",
       "        Pressão (hPa) Chuva total do período (mm)  \n",
       "714073          949.0                           0  \n",
       "714074          949.0                           0  \n",
       "714075          949.0                           0  \n",
       "714076          948.0                           0  "
      ]
     },
     "execution_count": 22,
     "metadata": {},
     "output_type": "execute_result"
    }
   ],
   "source": [
    "data_frame[data_frame[columns.JULIAN_DAY]==0]"
   ]
  },
  {
   "cell_type": "code",
   "execution_count": 23,
   "metadata": {},
   "outputs": [],
   "source": [
    "data_frame = data_frame[data_frame[columns.JULIAN_DAY]!=0]"
   ]
  },
  {
   "cell_type": "code",
   "execution_count": 24,
   "metadata": {},
   "outputs": [
    {
     "data": {
      "text/plain": [
       "(1048074, 18)"
      ]
     },
     "execution_count": 24,
     "metadata": {},
     "output_type": "execute_result"
    }
   ],
   "source": [
    "data_frame.shape"
   ]
  },
  {
   "cell_type": "markdown",
   "metadata": {},
   "source": [
    "### Removing data from 222"
   ]
  },
  {
   "cell_type": "code",
   "execution_count": 25,
   "metadata": {},
   "outputs": [
    {
     "data": {
      "text/plain": [
       "array([111, 222])"
      ]
     },
     "execution_count": 25,
     "metadata": {},
     "output_type": "execute_result"
    }
   ],
   "source": [
    "data_frame[columns.CODE].unique()"
   ]
  },
  {
   "cell_type": "code",
   "execution_count": 26,
   "metadata": {},
   "outputs": [
    {
     "data": {
      "text/html": [
       "<div>\n",
       "<style scoped>\n",
       "    .dataframe tbody tr th:only-of-type {\n",
       "        vertical-align: middle;\n",
       "    }\n",
       "\n",
       "    .dataframe tbody tr th {\n",
       "        vertical-align: top;\n",
       "    }\n",
       "\n",
       "    .dataframe thead th {\n",
       "        text-align: right;\n",
       "    }\n",
       "</style>\n",
       "<table border=\"1\" class=\"dataframe\">\n",
       "  <thead>\n",
       "    <tr style=\"text-align: right;\">\n",
       "      <th></th>\n",
       "      <th>Cod</th>\n",
       "      <th>Ano</th>\n",
       "      <th>Dia Juliano</th>\n",
       "      <th>Hora - minuto</th>\n",
       "      <th>Veloc. Instantânea do Vento a 5 metros (m/s)</th>\n",
       "      <th>Veloc. Instantânea do Vento a 2 metros (m/s)</th>\n",
       "      <th>Direção do Vento no instante da aquisição (°)</th>\n",
       "      <th>Radiação Incidente total de 10 leituras (KW/m2)</th>\n",
       "      <th>Radiação Refletida Total de 10 leituras (KW/m2)</th>\n",
       "      <th>Fluxo Positivo de calor no solo total de 10 leituras (W/m2)</th>\n",
       "      <th>Fluxo negativo de calor no solo . total de 10 leituras (W/m2)</th>\n",
       "      <th>Umidade relativa Média (%)</th>\n",
       "      <th>Temperatura do Ar Média (°C)</th>\n",
       "      <th>Temperatura do solo  1 Média (°C) à 3cm no solo</th>\n",
       "      <th>Temperatura do solo 2Média (°C) à 6cm no solo</th>\n",
       "      <th>Temperatura do solo 3Média (°C) Colocado sensor de UV em 31/07/09</th>\n",
       "      <th>Pressão (hPa)</th>\n",
       "      <th>Chuva total do período (mm)</th>\n",
       "    </tr>\n",
       "  </thead>\n",
       "  <tbody>\n",
       "    <tr>\n",
       "      <th>416419</th>\n",
       "      <td>222</td>\n",
       "      <td>2005</td>\n",
       "      <td>1.0</td>\n",
       "      <td>2400</td>\n",
       "      <td>4894.00</td>\n",
       "      <td>4344.00</td>\n",
       "      <td>113.9</td>\n",
       "      <td>1805.0</td>\n",
       "      <td>158.4</td>\n",
       "      <td>78.10</td>\n",
       "      <td>25.33</td>\n",
       "      <td>-18.58</td>\n",
       "      <td>32.85</td>\n",
       "      <td>1321.0</td>\n",
       "      <td>20.07</td>\n",
       "      <td>529</td>\n",
       "      <td>33.97</td>\n",
       "      <td>1256</td>\n",
       "    </tr>\n",
       "    <tr>\n",
       "      <th>416570</th>\n",
       "      <td>222</td>\n",
       "      <td>2005</td>\n",
       "      <td>2.0</td>\n",
       "      <td>2400</td>\n",
       "      <td>6.07</td>\n",
       "      <td>5.60</td>\n",
       "      <td>140.8</td>\n",
       "      <td>1517.0</td>\n",
       "      <td>131.5</td>\n",
       "      <td>70.70</td>\n",
       "      <td>20.15</td>\n",
       "      <td>-22.71</td>\n",
       "      <td>32.06</td>\n",
       "      <td>1259.0</td>\n",
       "      <td>19.55</td>\n",
       "      <td>524</td>\n",
       "      <td>34.08</td>\n",
       "      <td>1314</td>\n",
       "    </tr>\n",
       "    <tr>\n",
       "      <th>416721</th>\n",
       "      <td>222</td>\n",
       "      <td>2005</td>\n",
       "      <td>3.0</td>\n",
       "      <td>2400</td>\n",
       "      <td>5168.00</td>\n",
       "      <td>4266.00</td>\n",
       "      <td>270.6</td>\n",
       "      <td>1637.0</td>\n",
       "      <td>136.5</td>\n",
       "      <td>74.30</td>\n",
       "      <td>20.47</td>\n",
       "      <td>-22.35</td>\n",
       "      <td>31.32</td>\n",
       "      <td>1314.0</td>\n",
       "      <td>18.11</td>\n",
       "      <td>534</td>\n",
       "      <td>32.32</td>\n",
       "      <td>1326</td>\n",
       "    </tr>\n",
       "    <tr>\n",
       "      <th>416872</th>\n",
       "      <td>222</td>\n",
       "      <td>2005</td>\n",
       "      <td>4.0</td>\n",
       "      <td>2400</td>\n",
       "      <td>4462.00</td>\n",
       "      <td>3717.00</td>\n",
       "      <td>302.0</td>\n",
       "      <td>2216.0</td>\n",
       "      <td>75.5</td>\n",
       "      <td>51.65</td>\n",
       "      <td>5698.00</td>\n",
       "      <td>-19.32</td>\n",
       "      <td>24.66</td>\n",
       "      <td>1537.0</td>\n",
       "      <td>18.47</td>\n",
       "      <td>200</td>\n",
       "      <td>27.85</td>\n",
       "      <td>1550</td>\n",
       "    </tr>\n",
       "    <tr>\n",
       "      <th>417023</th>\n",
       "      <td>222</td>\n",
       "      <td>2005</td>\n",
       "      <td>5.0</td>\n",
       "      <td>2400</td>\n",
       "      <td>4423.00</td>\n",
       "      <td>4.07</td>\n",
       "      <td>358.2</td>\n",
       "      <td>1514.0</td>\n",
       "      <td>101.0</td>\n",
       "      <td>60.42</td>\n",
       "      <td>9.87</td>\n",
       "      <td>-13.45</td>\n",
       "      <td>26.20</td>\n",
       "      <td>1441.0</td>\n",
       "      <td>18.60</td>\n",
       "      <td>335</td>\n",
       "      <td>27.78</td>\n",
       "      <td>1650</td>\n",
       "    </tr>\n",
       "  </tbody>\n",
       "</table>\n",
       "</div>"
      ],
      "text/plain": [
       "        Cod   Ano  Dia Juliano  Hora - minuto  \\\n",
       "416419  222  2005          1.0           2400   \n",
       "416570  222  2005          2.0           2400   \n",
       "416721  222  2005          3.0           2400   \n",
       "416872  222  2005          4.0           2400   \n",
       "417023  222  2005          5.0           2400   \n",
       "\n",
       "        Veloc. Instantânea do Vento a 5 metros (m/s)  \\\n",
       "416419                                       4894.00   \n",
       "416570                                          6.07   \n",
       "416721                                       5168.00   \n",
       "416872                                       4462.00   \n",
       "417023                                       4423.00   \n",
       "\n",
       "        Veloc. Instantânea do Vento a 2 metros (m/s)  \\\n",
       "416419                                       4344.00   \n",
       "416570                                          5.60   \n",
       "416721                                       4266.00   \n",
       "416872                                       3717.00   \n",
       "417023                                          4.07   \n",
       "\n",
       "        Direção do Vento no instante da aquisição (°)  \\\n",
       "416419                                          113.9   \n",
       "416570                                          140.8   \n",
       "416721                                          270.6   \n",
       "416872                                          302.0   \n",
       "417023                                          358.2   \n",
       "\n",
       "        Radiação Incidente total de 10 leituras (KW/m2)  \\\n",
       "416419                                           1805.0   \n",
       "416570                                           1517.0   \n",
       "416721                                           1637.0   \n",
       "416872                                           2216.0   \n",
       "417023                                           1514.0   \n",
       "\n",
       "        Radiação Refletida Total de 10 leituras (KW/m2)  \\\n",
       "416419                                            158.4   \n",
       "416570                                            131.5   \n",
       "416721                                            136.5   \n",
       "416872                                             75.5   \n",
       "417023                                            101.0   \n",
       "\n",
       "        Fluxo Positivo de calor no solo total de 10 leituras (W/m2)  \\\n",
       "416419                                              78.10             \n",
       "416570                                              70.70             \n",
       "416721                                              74.30             \n",
       "416872                                              51.65             \n",
       "417023                                              60.42             \n",
       "\n",
       "        Fluxo negativo de calor no solo . total de 10 leituras (W/m2)  \\\n",
       "416419                                              25.33               \n",
       "416570                                              20.15               \n",
       "416721                                              20.47               \n",
       "416872                                            5698.00               \n",
       "417023                                               9.87               \n",
       "\n",
       "        Umidade relativa Média (%)  Temperatura do Ar Média (°C)  \\\n",
       "416419                      -18.58                         32.85   \n",
       "416570                      -22.71                         32.06   \n",
       "416721                      -22.35                         31.32   \n",
       "416872                      -19.32                         24.66   \n",
       "417023                      -13.45                         26.20   \n",
       "\n",
       "        Temperatura do solo  1 Média (°C) à 3cm no solo  \\\n",
       "416419                                           1321.0   \n",
       "416570                                           1259.0   \n",
       "416721                                           1314.0   \n",
       "416872                                           1537.0   \n",
       "417023                                           1441.0   \n",
       "\n",
       "        Temperatura do solo 2Média (°C) à 6cm no solo   \\\n",
       "416419                                           20.07   \n",
       "416570                                           19.55   \n",
       "416721                                           18.11   \n",
       "416872                                           18.47   \n",
       "417023                                           18.60   \n",
       "\n",
       "       Temperatura do solo 3Média (°C) Colocado sensor de UV em 31/07/09  \\\n",
       "416419                                                529                  \n",
       "416570                                                524                  \n",
       "416721                                                534                  \n",
       "416872                                                200                  \n",
       "417023                                                335                  \n",
       "\n",
       "        Pressão (hPa) Chuva total do período (mm)  \n",
       "416419          33.97                        1256  \n",
       "416570          34.08                        1314  \n",
       "416721          32.32                        1326  \n",
       "416872          27.85                        1550  \n",
       "417023          27.78                        1650  "
      ]
     },
     "execution_count": 26,
     "metadata": {},
     "output_type": "execute_result"
    }
   ],
   "source": [
    "data_frame[data_frame[columns.CODE]!=111].head()"
   ]
  },
  {
   "cell_type": "code",
   "execution_count": 27,
   "metadata": {},
   "outputs": [],
   "source": [
    "data_frame = data_frame[data_frame[columns.CODE]==111]"
   ]
  },
  {
   "cell_type": "code",
   "execution_count": 28,
   "metadata": {},
   "outputs": [
    {
     "data": {
      "text/plain": [
       "(1047709, 18)"
      ]
     },
     "execution_count": 28,
     "metadata": {},
     "output_type": "execute_result"
    }
   ],
   "source": [
    "data_frame.shape"
   ]
  },
  {
   "cell_type": "markdown",
   "metadata": {},
   "source": [
    "### Removing invalid Air Temperature measurements"
   ]
  },
  {
   "cell_type": "code",
   "execution_count": 29,
   "metadata": {},
   "outputs": [],
   "source": [
    "_MIN_AIR_TEMPERATURE=-2\n",
    "_MAX_AIR_TEMPERATURE=45"
   ]
  },
  {
   "cell_type": "code",
   "execution_count": 30,
   "metadata": {},
   "outputs": [
    {
     "data": {
      "text/plain": [
       "count    1.047709e+06\n",
       "mean     2.585108e+01\n",
       "std      2.397889e+02\n",
       "min     -6.999000e+03\n",
       "25%      1.813000e+01\n",
       "50%      2.114000e+01\n",
       "75%      2.509000e+01\n",
       "max      1.822660e+05\n",
       "Name: Temperatura do Ar Média (°C), dtype: float64"
      ]
     },
     "execution_count": 30,
     "metadata": {},
     "output_type": "execute_result"
    }
   ],
   "source": [
    "data_frame[columns.TEMPERATURE].describe()"
   ]
  },
  {
   "cell_type": "code",
   "execution_count": 31,
   "metadata": {},
   "outputs": [
    {
     "data": {
      "text/plain": [
       "count    1.046847e+06\n",
       "mean     2.158277e+01\n",
       "std      5.043493e+00\n",
       "min      3.890000e+00\n",
       "25%      1.813000e+01\n",
       "50%      2.113000e+01\n",
       "75%      2.508000e+01\n",
       "max      4.499000e+01\n",
       "Name: Temperatura do Ar Média (°C), dtype: float64"
      ]
     },
     "execution_count": 31,
     "metadata": {},
     "output_type": "execute_result"
    }
   ],
   "source": [
    "data_frame_without_invalid_air_temp = data_frame.loc[(data_frame[columns.TEMPERATURE] > _MIN_AIR_TEMPERATURE) & (data_frame[columns.TEMPERATURE] < _MAX_AIR_TEMPERATURE), :]\n",
    "data_frame_without_invalid_air_temp[columns.TEMPERATURE].describe()"
   ]
  },
  {
   "cell_type": "code",
   "execution_count": 32,
   "metadata": {},
   "outputs": [
    {
     "data": {
      "text/plain": [
       "862"
      ]
     },
     "execution_count": 32,
     "metadata": {},
     "output_type": "execute_result"
    }
   ],
   "source": [
    "data_frame.shape[0] - data_frame_without_invalid_air_temp.shape[0]"
   ]
  },
  {
   "cell_type": "code",
   "execution_count": 33,
   "metadata": {},
   "outputs": [],
   "source": [
    "data_frame = data_frame_without_invalid_air_temp"
   ]
  },
  {
   "cell_type": "markdown",
   "metadata": {},
   "source": [
    "### Removing invalid Air moisture measurements"
   ]
  },
  {
   "cell_type": "code",
   "execution_count": 34,
   "metadata": {},
   "outputs": [],
   "source": [
    "_MIN_AIR_MOISTURE=0\n",
    "_MAX_AIR_MOISTURE=100"
   ]
  },
  {
   "cell_type": "code",
   "execution_count": 35,
   "metadata": {},
   "outputs": [
    {
     "data": {
      "text/plain": [
       "count    1.046847e+06\n",
       "mean     7.408098e+01\n",
       "std      2.580085e+01\n",
       "min     -2.378000e+02\n",
       "25%      6.054000e+01\n",
       "50%      7.750000e+01\n",
       "75%      8.920000e+01\n",
       "max      6.836000e+03\n",
       "Name: Umidade relativa Média (%), dtype: float64"
      ]
     },
     "execution_count": 35,
     "metadata": {},
     "output_type": "execute_result"
    }
   ],
   "source": [
    "data_frame[columns.HUMIDITY].describe()"
   ]
  },
  {
   "cell_type": "code",
   "execution_count": 36,
   "metadata": {},
   "outputs": [
    {
     "data": {
      "text/plain": [
       "count    1.046835e+06\n",
       "mean     7.402794e+01\n",
       "std      1.881340e+01\n",
       "min      7.410000e+00\n",
       "25%      6.054000e+01\n",
       "50%      7.750000e+01\n",
       "75%      8.920000e+01\n",
       "max      1.000000e+02\n",
       "Name: Umidade relativa Média (%), dtype: float64"
      ]
     },
     "execution_count": 36,
     "metadata": {},
     "output_type": "execute_result"
    }
   ],
   "source": [
    "data_frame_without_invalid_air_mois = data_frame.loc[(data_frame[columns.HUMIDITY] >= _MIN_AIR_MOISTURE) & (data_frame[columns.HUMIDITY] <= _MAX_AIR_MOISTURE), :]\n",
    "data_frame_without_invalid_air_mois[columns.HUMIDITY].describe()"
   ]
  },
  {
   "cell_type": "code",
   "execution_count": 37,
   "metadata": {},
   "outputs": [
    {
     "data": {
      "text/plain": [
       "12"
      ]
     },
     "execution_count": 37,
     "metadata": {},
     "output_type": "execute_result"
    }
   ],
   "source": [
    "data_frame.shape[0] - data_frame_without_invalid_air_mois.shape[0]"
   ]
  },
  {
   "cell_type": "code",
   "execution_count": 38,
   "metadata": {},
   "outputs": [],
   "source": [
    "data_frame = data_frame_without_invalid_air_mois"
   ]
  },
  {
   "cell_type": "markdown",
   "metadata": {},
   "source": [
    "### Removing invalid Air pressure measurements"
   ]
  },
  {
   "cell_type": "code",
   "execution_count": 39,
   "metadata": {},
   "outputs": [],
   "source": [
    "_MIN_AIR_PRESSURE=822\n",
    "_MAX_AIR_PRESSURE=1030"
   ]
  },
  {
   "cell_type": "code",
   "execution_count": 40,
   "metadata": {},
   "outputs": [
    {
     "data": {
      "text/plain": [
       "count    1.046835e+06\n",
       "mean     9.465363e+02\n",
       "std      7.869473e+01\n",
       "min     -6.999000e+03\n",
       "25%      9.430000e+02\n",
       "50%      9.470000e+02\n",
       "75%      9.520000e+02\n",
       "max      2.802000e+03\n",
       "Name: Pressão (hPa), dtype: float64"
      ]
     },
     "execution_count": 40,
     "metadata": {},
     "output_type": "execute_result"
    }
   ],
   "source": [
    "data_frame[columns.PRESSURE].describe()"
   ]
  },
  {
   "cell_type": "code",
   "execution_count": 41,
   "metadata": {},
   "outputs": [
    {
     "data": {
      "text/plain": [
       "count    1.046641e+06\n",
       "mean     9.473048e+02\n",
       "std      6.634206e+00\n",
       "min      8.220000e+02\n",
       "25%      9.430000e+02\n",
       "50%      9.470000e+02\n",
       "75%      9.520000e+02\n",
       "max      1.028000e+03\n",
       "Name: Pressão (hPa), dtype: float64"
      ]
     },
     "execution_count": 41,
     "metadata": {},
     "output_type": "execute_result"
    }
   ],
   "source": [
    "data_frame_without_invalid_air_press = data_frame.loc[(data_frame[columns.PRESSURE] >= _MIN_AIR_PRESSURE) & (data_frame[columns.PRESSURE] <= _MAX_AIR_PRESSURE), :]\n",
    "data_frame_without_invalid_air_press[columns.PRESSURE].describe()"
   ]
  },
  {
   "cell_type": "code",
   "execution_count": 42,
   "metadata": {},
   "outputs": [
    {
     "data": {
      "text/plain": [
       "194"
      ]
     },
     "execution_count": 42,
     "metadata": {},
     "output_type": "execute_result"
    }
   ],
   "source": [
    "data_frame.shape[0] - data_frame_without_invalid_air_press.shape[0]"
   ]
  },
  {
   "cell_type": "code",
   "execution_count": 43,
   "metadata": {},
   "outputs": [],
   "source": [
    "data_frame = data_frame_without_invalid_air_press"
   ]
  },
  {
   "cell_type": "markdown",
   "metadata": {},
   "source": [
    "### Removing invalid Wind Directionmeasurements"
   ]
  },
  {
   "cell_type": "code",
   "execution_count": 44,
   "metadata": {},
   "outputs": [],
   "source": [
    "_MIN_WIND_DIRECTION=0\n",
    "_MAX_WIND_DIRECTION=360"
   ]
  },
  {
   "cell_type": "code",
   "execution_count": 45,
   "metadata": {},
   "outputs": [
    {
     "data": {
      "text/plain": [
       "count    1.046641e+06\n",
       "mean     2.719498e+02\n",
       "std      6.692292e+02\n",
       "min      0.000000e+00\n",
       "25%      9.370000e+01\n",
       "50%      1.555000e+02\n",
       "75%      2.575000e+02\n",
       "max      6.999000e+03\n",
       "Name: Direção do Vento no instante da aquisição (°), dtype: float64"
      ]
     },
     "execution_count": 45,
     "metadata": {},
     "output_type": "execute_result"
    }
   ],
   "source": [
    "data_frame[columns.WIND_DIRECTION].describe()"
   ]
  },
  {
   "cell_type": "code",
   "execution_count": 46,
   "metadata": {},
   "outputs": [
    {
     "data": {
      "text/plain": [
       "count    1.013922e+06\n",
       "mean     1.659585e+02\n",
       "std      9.779143e+01\n",
       "min      0.000000e+00\n",
       "25%      9.080000e+01\n",
       "50%      1.516000e+02\n",
       "75%      2.486000e+02\n",
       "max      3.600000e+02\n",
       "Name: Direção do Vento no instante da aquisição (°), dtype: float64"
      ]
     },
     "execution_count": 46,
     "metadata": {},
     "output_type": "execute_result"
    }
   ],
   "source": [
    "data_frame_without_invalid_wind_dir = data_frame.loc[(data_frame[columns.WIND_DIRECTION] >= _MIN_WIND_DIRECTION) & (data_frame[columns.WIND_DIRECTION] <= _MAX_WIND_DIRECTION), :]\n",
    "data_frame_without_invalid_wind_dir[columns.WIND_DIRECTION].describe()"
   ]
  },
  {
   "cell_type": "code",
   "execution_count": 47,
   "metadata": {},
   "outputs": [
    {
     "data": {
      "text/plain": [
       "32719"
      ]
     },
     "execution_count": 47,
     "metadata": {},
     "output_type": "execute_result"
    }
   ],
   "source": [
    "data_frame.shape[0] - data_frame_without_invalid_wind_dir.shape[0]"
   ]
  },
  {
   "cell_type": "code",
   "execution_count": 48,
   "metadata": {},
   "outputs": [],
   "source": [
    "# I'm commenting this for now to avoid removing valid temperature and pression measurements.\n",
    "#data_frame = data_frame_without_invalid_wind_dir"
   ]
  },
  {
   "cell_type": "markdown",
   "metadata": {},
   "source": [
    "### Results after cleaning"
   ]
  },
  {
   "cell_type": "code",
   "execution_count": 49,
   "metadata": {},
   "outputs": [
    {
     "name": "stdout",
     "output_type": "stream",
     "text": [
      "3804 observations were removed what is 0.36% of the dataset\n"
     ]
    }
   ],
   "source": [
    "original_amount_of_lines = original_shape[0]\n",
    "amount_of_lines_after_cleaning = data_frame.shape[0]\n",
    "amount_of_lines_removed = original_amount_of_lines - amount_of_lines_after_cleaning\n",
    "\n",
    "percentage_of_lines_removed = 100 * amount_of_lines_removed / original_amount_of_lines\n",
    "\n",
    "percentage_of_lines_removed = round(percentage_of_lines_removed, 2)\n",
    "\n",
    "print(f\"{amount_of_lines_removed} observations were removed what is {percentage_of_lines_removed}% of the dataset\")\n"
   ]
  },
  {
   "cell_type": "markdown",
   "metadata": {},
   "source": [
    "### Creating the date column"
   ]
  },
  {
   "cell_type": "code",
   "execution_count": 50,
   "metadata": {},
   "outputs": [
    {
     "name": "stderr",
     "output_type": "stream",
     "text": [
      "/home/felipepedroso/.local/lib/python3.6/site-packages/ipykernel_launcher.py:3: SettingWithCopyWarning: \n",
      "A value is trying to be set on a copy of a slice from a DataFrame.\n",
      "Try using .loc[row_indexer,col_indexer] = value instead\n",
      "\n",
      "See the caveats in the documentation: http://pandas.pydata.org/pandas-docs/stable/indexing.html#indexing-view-versus-copy\n",
      "  This is separate from the ipykernel package so we can avoid doing imports until\n"
     ]
    }
   ],
   "source": [
    "year_mapping = data_frame[columns.YEAR].map(lambda year : datetime(year, 1, 1))\n",
    "time_delta_mapping = data_frame[columns.JULIAN_DAY].map(lambda day : timedelta(day-1))\n",
    "data_frame[columns.DATE] = year_mapping + time_delta_mapping"
   ]
  },
  {
   "cell_type": "markdown",
   "metadata": {},
   "source": [
    "### Saving CSV"
   ]
  },
  {
   "cell_type": "code",
   "execution_count": 53,
   "metadata": {},
   "outputs": [],
   "source": [
    "directory_utils.create_if_doesnt_exist(datasets.FIRST_CLEAN_DIRECTORY_PATH)\n",
    "data_frame.to_csv(datasets.FIRST_CLEAN_DATA_SET_111_PATH, index = False, encoding=datasets.DEFAULT_CSV_ENCODING)"
   ]
  },
  {
   "cell_type": "code",
   "execution_count": null,
   "metadata": {},
   "outputs": [],
   "source": []
  }
 ],
 "metadata": {
  "kernelspec": {
   "display_name": "Python 2",
   "language": "python",
   "name": "python2"
  },
  "language_info": {
   "codemirror_mode": {
    "name": "ipython",
    "version": 3
   },
   "file_extension": ".py",
   "mimetype": "text/x-python",
   "name": "python",
   "nbconvert_exporter": "python",
   "pygments_lexer": "ipython3",
   "version": "3.6.8"
  }
 },
 "nbformat": 4,
 "nbformat_minor": 2
}
