{
 "cells": [
  {
   "cell_type": "code",
   "execution_count": 1,
   "metadata": {},
   "outputs": [],
   "source": [
    "%matplotlib inline\n",
    "# Enabling reloading extension to use external python files\n",
    "%reload_ext autoreload\n",
    "%autoreload 2"
   ]
  },
  {
   "cell_type": "code",
   "execution_count": 2,
   "metadata": {},
   "outputs": [],
   "source": [
    "import pandas as pd\n",
    "import numpy as np\n",
    "from os import listdir\n",
    "from os.path import isfile, join\n",
    "from datetime import date, datetime,timedelta\n",
    "import math\n",
    "import columns\n",
    "import datasets\n",
    "import seasons\n",
    "import directory_utils\n",
    "import calendar"
   ]
  },
  {
   "cell_type": "code",
   "execution_count": 16,
   "metadata": {},
   "outputs": [],
   "source": [
    "COLUMN_DATE = 'DATE'\n",
    "COLUMN_YEAR = 'YEAR'\n",
    "COLUMN_DAY_OF_YEAR = 'DAY_OF_YEAR'\n",
    "MAX_TEMPERATURE = 'N_AIRTMP_MAX'\n",
    "MIN_TEMPERATURE = 'N_AIRTMP_MIN'\n",
    "ABOVE_PCT = 'above_pct'\n",
    "BELOW_PCT = 'below_pct'\n",
    "IS_HEATWAVE = 'HW'\n",
    "IS_COLDWAVE = 'CW'"
   ]
  },
  {
   "cell_type": "code",
   "execution_count": 32,
   "metadata": {},
   "outputs": [],
   "source": [
    "for file in os.listdir(datasets.HEATWAVES_DIRECTORY_PATH):\n",
    "    if file.endswith(\".csv\"):\n",
    "        csv_full_path = os.path.join(datasets.HEATWAVES_DIRECTORY_PATH, file)\n",
    "\n",
    "        output_full_path = os.path.join(datasets.HEATWAVES_DIRECTORY_OUTPUT, file)\n",
    "\n",
    "        data_frame = pd.read_csv(csv_full_path, encoding=datasets.DEFAULT_CSV_ENCODING, sep=';', index_col=0)\n",
    "        \n",
    "        if COLUMN_DATE not in data_frame.columns:\n",
    "            continue\n",
    "            \n",
    "#         print(csv_full_path)\n",
    "#         print(data_frame.head())\n",
    "        \n",
    "        formatted_date_column = pd.to_datetime(data_frame[COLUMN_DATE], format='%Y-%m-%d')\n",
    "\n",
    "        data_frame[COLUMN_YEAR] = formatted_date_column.map(lambda date: date.year)\n",
    "\n",
    "        data_frame[COLUMN_DAY_OF_YEAR] = formatted_date_column.map(lambda date: date.timetuple().tm_yday)\n",
    "\n",
    "        selected_columns = [COLUMN_YEAR, COLUMN_DAY_OF_YEAR]\n",
    "\n",
    "        if IS_HEATWAVE in data_frame.columns and MAX_TEMPERATURE in data_frame.columns:\n",
    "            selected_columns.insert(1, MAX_TEMPERATURE)\n",
    "            selected_columns.append(IS_HEATWAVE)\n",
    "        elif IS_COLDWAVE in data_frame.columns and MIN_TEMPERATURE in data_frame.columns:\n",
    "            selected_columns.insert(1, MIN_TEMPERATURE)\n",
    "            selected_columns.append(IS_COLDWAVE)\n",
    "\n",
    "        directory_utils.create_if_doesnt_exist(datasets.HEATWAVES_DIRECTORY_OUTPUT)\n",
    "\n",
    "        data_frame[selected_columns].to_csv(output_full_path, index = False, encoding=datasets.DEFAULT_CSV_ENCODING)"
   ]
  },
  {
   "cell_type": "code",
   "execution_count": 24,
   "metadata": {},
   "outputs": [
    {
     "name": "stdout",
     "output_type": "stream",
     "text": [
      "./datasets/heatwaves\\OndasCalor_CPA_1997_2018.csv\n",
      "./datasets/heatwaves\\OndasCalor_CPA_1997_2018_Metricas.csv\n",
      "./datasets/heatwaves\\OndasCalor_IAC_1961_2018.csv\n",
      "./datasets/heatwaves\\OndasCalor_IAC_1961_2018_Metricas.csv\n",
      "./datasets/heatwaves\\OndasCalor_VIR_1983_2018.csv\n",
      "./datasets/heatwaves\\OndasCalor_VIR_1983_2018_Metricas.csv\n",
      "./datasets/heatwaves\\OndasFrio_CPA_1997_2018.csv\n",
      "./datasets/heatwaves\\OndasFrio_CPA_1997_2018_Metricas.csv\n",
      "./datasets/heatwaves\\OndasFrio_IAC_1961_2018.csv\n",
      "./datasets/heatwaves\\OndasFrio_IAC_1961_2018_Metricas.csv\n",
      "./datasets/heatwaves\\OndasFrio_VIR_1983_2018.csv\n",
      "./datasets/heatwaves\\OndasFrio_VIR_1983_2018_Metricas.csv\n"
     ]
    }
   ],
   "source": []
  },
  {
   "cell_type": "code",
   "execution_count": null,
   "metadata": {},
   "outputs": [],
   "source": []
  }
 ],
 "metadata": {
  "kernelspec": {
   "display_name": "Python 3",
   "language": "python",
   "name": "python3"
  },
  "language_info": {
   "codemirror_mode": {
    "name": "ipython",
    "version": 3
   },
   "file_extension": ".py",
   "mimetype": "text/x-python",
   "name": "python",
   "nbconvert_exporter": "python",
   "pygments_lexer": "ipython3",
   "version": "3.8.1"
  }
 },
 "nbformat": 4,
 "nbformat_minor": 4
}
